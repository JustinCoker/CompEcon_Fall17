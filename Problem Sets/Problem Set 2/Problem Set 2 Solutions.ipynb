{
 "cells": [
  {
   "cell_type": "markdown",
   "metadata": {},
   "source": [
    "# Problem Set 2: Justin Coker"
   ]
  },
  {
   "cell_type": "markdown",
   "metadata": {},
   "source": [
    "# Standard Library\n",
    "\n",
    "## Problem 1. \n",
    "### Write a function that accepts a list of numbers as input and returns a new list with the minimum, maximum, and average of the original list (in that order). Remember to use floating point division to calculate the average. Can you implement this function in a single line?"
   ]
  },
  {
   "cell_type": "code",
   "execution_count": 30,
   "metadata": {
    "collapsed": true
   },
   "outputs": [],
   "source": [
    "#define the function\n",
    "def my_func(a):\n",
    "    return [min(a), max(a), float(sum(a))/float(len(a))]\n",
    "list = [1, 2, 3, 12, 15]"
   ]
  },
  {
   "cell_type": "code",
   "execution_count": 31,
   "metadata": {
    "collapsed": true
   },
   "outputs": [],
   "source": [
    "#implement on a single line:\n",
    "new_list = my_func(list)"
   ]
  },
  {
   "cell_type": "code",
   "execution_count": 32,
   "metadata": {},
   "outputs": [
    {
     "data": {
      "text/plain": [
       "[1, 15, 6.6]"
      ]
     },
     "execution_count": 32,
     "metadata": {},
     "output_type": "execute_result"
    }
   ],
   "source": [
    "#display result\n",
    "new_list"
   ]
  },
  {
   "cell_type": "markdown",
   "metadata": {},
   "source": [
    "## Problem 2. \n",
    "### Python has several methods that seem to change immutable objects. These methods actually work by making copies of objects. We can therefore determine which object types are mutable and which are immutable by using the equal sign and “changing” the objects."
   ]
  },
  {
   "cell_type": "markdown",
   "metadata": {},
   "source": [
    "\n"
   ]
  },
  {
   "cell_type": "code",
   "execution_count": 33,
   "metadata": {},
   "outputs": [
    {
     "name": "stdout",
     "output_type": "stream",
     "text": [
      "numbers are unmutable\n",
      "strings are unmutable\n",
      "lists are mutable\n",
      "tuples are unmutable\n",
      "dicts are mutable\n"
     ]
    }
   ],
   "source": [
    "num = 3\n",
    "new_num = num\n",
    "new_num= new_num+1\n",
    "if num == new_num:\n",
    "    print('numbers are mutable')\n",
    "else:\n",
    "    print('numbers are unmutable')\n",
    "    \n",
    "string = 'word'\n",
    "new_string = string\n",
    "new_string= new_string + 's'\n",
    "if string == new_string:\n",
    "    print('strings are mutable')\n",
    "else:\n",
    "    print('strings are unmutable')\n",
    "    \n",
    "list = [1, 2, 3]\n",
    "new_list = list\n",
    "new_list.append(5)\n",
    "if list == new_list:\n",
    "    print('lists are mutable')\n",
    "else:\n",
    "    print('lists are unmutable')\n",
    "\n",
    "tuple = (1,2)\n",
    "new_tuple = tuple\n",
    "new_tuple = new_tuple + (1,)\n",
    "if tuple == new_tuple:\n",
    "    print('tuples are mutable')\n",
    "else:\n",
    "    print('tuples are unmutable')\n",
    "    \n",
    "dict = {1: 'first', 2: 'second'}\n",
    "new_dict = dict\n",
    "new_dict[1] = 'a'\n",
    "if dict == new_dict:\n",
    "    print('dicts are mutable')\n",
    "else:\n",
    "    print('dicts are unmutable')"
   ]
  },
  {
   "cell_type": "markdown",
   "metadata": {},
   "source": [
    "## Problem 3. \n",
    "\n",
    "### Create a module called calculator.py. Write a function that returns the sum of two arguments, a function that returns the product of two arguments, and a function that returns the square root of a single argument. When the file is either run or imported, nothing should be executed. In your main solutions file, import your new calculator module. Using only the functions defined in the module, write a new function that calculates the length of the hypotenuse of a right triangle given the lengths of the other two sides."
   ]
  },
  {
   "cell_type": "code",
   "execution_count": 34,
   "metadata": {},
   "outputs": [
    {
     "name": "stdout",
     "output_type": "stream",
     "text": [
      "side 3 =  14.142135623730951\n"
     ]
    }
   ],
   "source": [
    "#see calc.py (saved in Problem Sets 2 folder)\n",
    "import calc\n",
    "\n",
    "def hypot(side1, side2):\n",
    "    return calc.sqroot(calc.add(calc.prod(side1, side1), calc.prod(side2, side2)))\n",
    "\n",
    "c= hypot(10, 10)\n",
    "print('side 3 = ', c)"
   ]
  },
  {
   "cell_type": "markdown",
   "metadata": {},
   "source": [
    "# Introduction to NumPy\n",
    "\n",
    "## Problem 1. \n",
    "### NumPy’s dot() function performs matrix multiplication. Write a function that defines the following matrices as NumPy arrays.\n",
    "\n",
    "$$\n",
    "A = \\begin{bmatrix}\n",
    "    3 & -1 & 4 & \\\\\n",
    "    1 & 5 & -9       \n",
    "\\end{bmatrix}\n",
    "$$\n",
    "------------------\n",
    "$$\n",
    "B = \\begin{bmatrix}\n",
    "    2 & 6 & -5 & 3\\\\\n",
    "    5 & -8 & 9 & 7\\\\\n",
    "    9 & -3 & -2 & -3\\\\\n",
    "    \\end{bmatrix}\n",
    "$$\n",
    "\n",
    "## Return the matrix product AB. "
   ]
  },
  {
   "cell_type": "code",
   "execution_count": 35,
   "metadata": {},
   "outputs": [
    {
     "name": "stdout",
     "output_type": "stream",
     "text": [
      "[[ 37  14 -32 -10]\n",
      " [-54  -7  58  65]]\n"
     ]
    }
   ],
   "source": [
    "import numpy as np\n",
    "\n",
    "def matrix_mult():\n",
    "    A = np.array([[3, -1, 4], [1, 5, -9]])\n",
    "    B = np.array([[2, 6, -5, 3], [5, -8, 9, 7], [9, -3, -2, -3]])\n",
    "    AB = np.dot(A, B)\n",
    "    print(AB)\n",
    "\n",
    "\n",
    "    \n",
    "\n",
    "matrix_mult()"
   ]
  },
  {
   "cell_type": "markdown",
   "metadata": {},
   "source": [
    "## Problem 2. \n",
    "### Write a function that defines the following matrix as a NumPy array.\n",
    "\n",
    "$$\n",
    "A = \\begin{bmatrix}\n",
    "    3 & 1 & 4 \\\\\n",
    "    1 & 5 & 9 \\\\\n",
    "   -5 & 3 & 1 \\\\\n",
    "    \\end{bmatrix}\n",
    "$$\n",
    "\n",
    "\n",
    "### Return the matrix $-A^3 + 9A^2 - 15A$. "
   ]
  },
  {
   "cell_type": "code",
   "execution_count": 1,
   "metadata": {
    "collapsed": true
   },
   "outputs": [],
   "source": [
    "import numpy as np\n",
    "\n",
    "\n",
    "def my_matrix():\n",
    "    H = np.array([[3, 1, 4], [1, 5, 9], [-5, 3, 1]])\n",
    "    polynomial = -1*np.dot(np.dot(H,H), H) + 9*np.dot(H,H) -15*H\n",
    "    return polynomial\n",
    "    \n",
    "    \n",
    "    "
   ]
  },
  {
   "cell_type": "code",
   "execution_count": 2,
   "metadata": {},
   "outputs": [
    {
     "data": {
      "text/plain": [
       "array([[0, 0, 0],\n",
       "       [0, 0, 0],\n",
       "       [0, 0, 0]])"
      ]
     },
     "execution_count": 2,
     "metadata": {},
     "output_type": "execute_result"
    }
   ],
   "source": [
    "my_matrix()\n",
    "\n",
    "\n"
   ]
  },
  {
   "cell_type": "markdown",
   "metadata": {},
   "source": [
    "## Problem 5. \n",
    "### Write a function that defines the following matrices as NumPy arrays.\n",
    "\n",
    "$$\n",
    "A = \n",
    "\\begin{bmatrix}\n",
    "    0 & 2 & 4 \\\\ \n",
    "    1 & 3 & 5\n",
    "\\end{bmatrix}\n",
    "$$\n",
    "--------------------\n",
    "$$\n",
    "B = \n",
    "\\begin{bmatrix}\n",
    "    3 & 0 & 0\\\\ \n",
    "    3 & 3 & 0\\\\ \n",
    "    3 & 3 & 3\n",
    "\\end{bmatrix}\n",
    "$$\n",
    "--------------------\n",
    "$$\n",
    "C =\n",
    "\\begin{bmatrix}\n",
    "    -2 & 0 & 0 \\\\ \n",
    "     0 & -2 & 0 \\\\ \n",
    "     0 & 0 & -2\n",
    "\\end{bmatrix}\n",
    "$$\n",
    "--------------------\n",
    "\n",
    "### Use NumPy's stacking functions to create and return the block matrix:\n",
    "\n",
    "$$\n",
    "\\begin{bmatrix}\n",
    "    0 & A^{T} & I \\\\\n",
    "    A & 0 & 0 \\\\\n",
    "    B & 0 & C\n",
    "\\end{bmatrix}\n",
    "$$\n",
    "\n",
    "### where I is the identity matrix of the appropriate size and each 0 is a matrix of all zeros, also of appropriate sizes. A block matrix of this form is used in the Interior Point method for linear optimization."
   ]
  },
  {
   "cell_type": "code",
   "execution_count": 82,
   "metadata": {},
   "outputs": [
    {
     "name": "stdout",
     "output_type": "stream",
     "text": [
      "[[ 0.  0.  0.  0.  1.  1.  0.  0.]\n",
      " [ 0.  0.  0.  2.  3.  0.  1.  0.]\n",
      " [ 0.  0.  0.  4.  5.  0.  0.  1.]\n",
      " [ 0.  2.  4.  0.  0.  0.  0.  0.]\n",
      " [ 1.  3.  5.  0.  0.  0.  0.  0.]\n",
      " [ 3.  0.  0.  0.  0. -2.  0.  0.]\n",
      " [ 3.  3.  0.  0.  0.  0. -2.  0.]\n",
      " [ 3.  3.  3.  0.  0.  0.  0. -2.]]\n"
     ]
    }
   ],
   "source": [
    "def block_array():\n",
    "    A = np.array([[0, 2, 4], [1, 3, 5]])\n",
    "    B = np.array([[3, 0, 0], [3, 3, 0], [3, 3, 3]])\n",
    "    C = np.array([[-2, 0, 0], [0, -2, 0], [0, 0, -2]])\n",
    "    \n",
    "    stack1 = np.vstack((np.zeros((3,3)) ,np.vstack((A, B))))\n",
    "    stack2 = np.vstack((A.T, np.zeros((5,2))))\n",
    "    stack3 = np.vstack((np.eye(3), np.zeros((2, 3)), C))\n",
    "    final = np.hstack((stack1, stack2, stack3))\n",
    "    print(final)\n",
    "block_array()"
   ]
  },
  {
   "cell_type": "markdown",
   "metadata": {},
   "source": [
    "# Object Oriented Programming\n",
    "\n",
    "## Problem 1. \n",
    "### Expand the Backpack class to match the following specifications.\n",
    "1. Modify the constructor so that it accepts a name, a color, and a maximum size (in that order). Make max_size a default argument withdefault value 5. Store each input as an attribute.\n",
    "\n",
    "2. Modify the put() method to ensure that the backpack does not go over capacity. If the user tries to put in more than max_size items, print “No Room!” and do not add the item to the contents list.\n",
    "\n",
    "3. Add a new method called dump() that resets the contents of the back- pack to an empty list. This method should not receive any arguments (except self ).\n",
    "\n",
    "### To ensure that your class works properly, consider writing a test function outside outside of the Backpack class that instantiates and analyzes a Backpack object. Your function may look something like this:"
   ]
  },
  {
   "cell_type": "code",
   "execution_count": 38,
   "metadata": {
    "collapsed": true
   },
   "outputs": [],
   "source": [
    "class Backpack(object):\n",
    "    def __init__(self, name, color, max_size = 5): #max_size set to 5\n",
    "        self.name = name\n",
    "        self.contents = []\n",
    "        self.color = color #adds color\n",
    "        self.max_size = max_size # adds max size\n",
    "        \n",
    "    def put(self, item):\n",
    "        if len(self.contents) >= self.max_size:\n",
    "            print('No Room!')\n",
    "        if len(self.contents) < self.max_size:\n",
    "            self.contents.append(item)\n",
    "            \n",
    "    def take(self, item):\n",
    "        self.contents.remove(item)\n",
    "        \n",
    "    def dump(self):\n",
    "        self.contents = []\n",
    "        "
   ]
  },
  {
   "cell_type": "markdown",
   "metadata": {},
   "source": [
    "### Testing each method in the class"
   ]
  },
  {
   "cell_type": "code",
   "execution_count": 39,
   "metadata": {},
   "outputs": [
    {
     "name": "stdout",
     "output_type": "stream",
     "text": [
      "No Room!\n",
      "contents =  ['pen', 'paper', 'book', 'computer', 'eraser']\n"
     ]
    }
   ],
   "source": [
    "testpack = Backpack(\"Justin\", \"Red\")\n",
    "for item in [\"pen\", \"paper\", \"book\", \"computer\", \"eraser\", \"marker\"]:\n",
    "    testpack.put(item)\n",
    "print('contents = ', testpack.contents)\n",
    "#attempting to add 6th items returns the No Room! error. contents of test pack are the first 5 items in the list."
   ]
  },
  {
   "cell_type": "code",
   "execution_count": 40,
   "metadata": {},
   "outputs": [
    {
     "name": "stdout",
     "output_type": "stream",
     "text": [
      "['pen', 'book', 'computer', 'eraser']\n"
     ]
    }
   ],
   "source": [
    "testpack.take('paper')\n",
    "print(testpack.contents)\n",
    "#paper is removed from testpack"
   ]
  },
  {
   "cell_type": "code",
   "execution_count": 41,
   "metadata": {},
   "outputs": [
    {
     "name": "stdout",
     "output_type": "stream",
     "text": [
      "[]\n"
     ]
    }
   ],
   "source": [
    "testpack.dump()\n",
    "print(testpack.contents)\n",
    "#all contents removed"
   ]
  },
  {
   "cell_type": "markdown",
   "metadata": {},
   "source": [
    "## Problem 2. \n",
    "### Create a Jetpack class that inherits from the Backpack class.\n",
    "\n",
    "1. Overwrite the constructor so that in addition to a name, color, and maximum size, it also accepts an amount of fuel. Change the default value of max_size to 2, and set the default value of fuel to 10. Store the fuel as an attribute.\n",
    "\n",
    "2. Add a fly() method that accepts an amount of fuel to be burned and decrements the fuel attribute by that amount. If the user tries to burn more fuel than remains, print “Not enough fuel!” and do not decrement the fuel.\n",
    "\n",
    "3. Overwrite the dump() method so that both the contents and the fuel tank are emptied."
   ]
  },
  {
   "cell_type": "code",
   "execution_count": 42,
   "metadata": {
    "collapsed": true
   },
   "outputs": [],
   "source": [
    "class Backpack(object):\n",
    "    def __init__(self, name, color, max_size = 5): #max_size set to 5\n",
    "        self.name = name\n",
    "        self.contents = []\n",
    "        self.color = color #adds color\n",
    "        self.max_size = max_size # adds max size\n",
    "        \n",
    "    def put(self, item):\n",
    "        if len(self.contents) >= self.max_size:\n",
    "            print('No Room!')\n",
    "        if len(self.contents) < self.max_size:\n",
    "            self.contents.append(item)\n",
    "            \n",
    "    def take(self, item):\n",
    "        self.contents.remove(item)\n",
    "        \n",
    "    def dump(self):\n",
    "        self.contents = []\n",
    "\n",
    "class jetpack(Backpack):\n",
    "    def __init__(self, name, color, max_size = 2, fuel = 10):\n",
    "        Backpack.__init__(self, name, color, max_size)\n",
    "        self.fuel = fuel\n",
    "        \n",
    "    def fly(self, fuel_used):\n",
    "        self.fuel_used = fuel_used\n",
    "        if self.fuel_used > self.fuel:\n",
    "            print('Not Enough Fuel!')\n",
    "        if self.fuel_used <= self.fuel:\n",
    "            self.fuel = self.fuel - self.fuel_used\n",
    "            print('Fly successful. Fuel Remaining: ', self.fuel)\n",
    "            \n",
    "    def dump(self):\n",
    "        Backpack.dump(self)\n",
    "        self.fuel = 0\n"
   ]
  },
  {
   "cell_type": "markdown",
   "metadata": {},
   "source": [
    "### Testing jetpack methods"
   ]
  },
  {
   "cell_type": "code",
   "execution_count": 43,
   "metadata": {},
   "outputs": [
    {
     "name": "stdout",
     "output_type": "stream",
     "text": [
      "Fly successful. Fuel Remaining:  2\n",
      "Fly successful. Fuel Remaining:  0\n",
      "Not Enough Fuel!\n"
     ]
    }
   ],
   "source": [
    "test_jetpack = jetpack('Justin', 'Blue')\n",
    "\n",
    "#test fly method\n",
    "test_jetpack.fly(8)\n",
    "test_jetpack.fly(2)\n",
    "test_jetpack.fly(1)\n",
    "\n",
    "#first to .fly() are successful, final 1 prints Not Enough Fuel! error"
   ]
  },
  {
   "cell_type": "code",
   "execution_count": 44,
   "metadata": {},
   "outputs": [
    {
     "name": "stdout",
     "output_type": "stream",
     "text": [
      "['pen', 'pencil']\n",
      "10\n",
      "[]\n",
      "0\n"
     ]
    }
   ],
   "source": [
    "test_jetpack = jetpack('Justin', 'Blue')\n",
    "\n",
    "test_jetpack.put('pen')\n",
    "test_jetpack.put('pencil')\n",
    "print(test_jetpack.contents) #pen and pencil are in contents\n",
    "print(test_jetpack.fuel) #fuel is at 10\n",
    "\n",
    "test_jetpack.dump()\n",
    "print(test_jetpack.contents) #contents are empty\n",
    "print(test_jetpack.fuel) #fuel is at 0"
   ]
  },
  {
   "cell_type": "code",
   "execution_count": null,
   "metadata": {
    "collapsed": true
   },
   "outputs": [],
   "source": []
  }
 ],
 "metadata": {
  "kernelspec": {
   "display_name": "Python 3",
   "language": "python",
   "name": "python3"
  },
  "language_info": {
   "codemirror_mode": {
    "name": "ipython",
    "version": 3
   },
   "file_extension": ".py",
   "mimetype": "text/x-python",
   "name": "python",
   "nbconvert_exporter": "python",
   "pygments_lexer": "ipython3",
   "version": "3.6.1"
  }
 },
 "nbformat": 4,
 "nbformat_minor": 2
}
