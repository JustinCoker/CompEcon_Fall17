{
 "cells": [
  {
   "cell_type": "code",
   "execution_count": 17,
   "metadata": {},
   "outputs": [],
   "source": [
    "crime2015 <- read.csv(\"bin_crime2015\", header=TRUE, sep=\",\")\n",
    "crime2016 <- read.csv(\"bin_crime2016\", header=TRUE, sep=',')"
   ]
  },
  {
   "cell_type": "code",
   "execution_count": 18,
   "metadata": {},
   "outputs": [
    {
     "data": {
      "text/html": [
       "<ol class=list-inline>\n",
       "\t<li>'X'</li>\n",
       "\t<li>'CrimeCount'</li>\n",
       "\t<li>'Crowd'</li>\n",
       "\t<li>'TimeBin'</li>\n",
       "\t<li>'TimeSq'</li>\n",
       "</ol>\n"
      ],
      "text/latex": [
       "\\begin{enumerate*}\n",
       "\\item 'X'\n",
       "\\item 'CrimeCount'\n",
       "\\item 'Crowd'\n",
       "\\item 'TimeBin'\n",
       "\\item 'TimeSq'\n",
       "\\end{enumerate*}\n"
      ],
      "text/markdown": [
       "1. 'X'\n",
       "2. 'CrimeCount'\n",
       "3. 'Crowd'\n",
       "4. 'TimeBin'\n",
       "5. 'TimeSq'\n",
       "\n",
       "\n"
      ],
      "text/plain": [
       "[1] \"X\"          \"CrimeCount\" \"Crowd\"      \"TimeBin\"    \"TimeSq\"    "
      ]
     },
     "metadata": {},
     "output_type": "display_data"
    }
   ],
   "source": [
    "names(crime2015)"
   ]
  },
  {
   "cell_type": "code",
   "execution_count": 23,
   "metadata": {},
   "outputs": [],
   "source": [
    "rdd1 = lm(CrimeCount ~ TimeBin + Crowd + Crowd * TimeBin, data = crime2015)"
   ]
  },
  {
   "cell_type": "code",
   "execution_count": 22,
   "metadata": {},
   "outputs": [
    {
     "data": {
      "text/plain": [
       "\n",
       "Call:\n",
       "lm(formula = CrimeCount ~ TimeBin + TimeSq + Crowd + Crowd * \n",
       "    TimeBin, data = crime2015)\n",
       "\n",
       "Residuals:\n",
       "     Min       1Q   Median       3Q      Max \n",
       "-0.83501 -0.60781  0.02213  0.29383  1.76351 \n",
       "\n",
       "Coefficients:\n",
       "                Estimate Std. Error t value Pr(>|t|)    \n",
       "(Intercept)    2.4409998  0.4529510   5.389  8.6e-06 ***\n",
       "TimeBin        0.0566495  0.0257112   2.203   0.0357 *  \n",
       "TimeSq         0.0007164  0.0003453   2.075   0.0470 *  \n",
       "Crowd          0.0747500  0.5007313   0.149   0.8824    \n",
       "TimeBin:Crowd -0.1067512  0.0499061  -2.139   0.0410 *  \n",
       "---\n",
       "Signif. codes:  0 ‘***’ 0.001 ‘**’ 0.01 ‘*’ 0.05 ‘.’ 0.1 ‘ ’ 1\n",
       "\n",
       "Residual standard error: 0.729 on 29 degrees of freedom\n",
       "Multiple R-squared:  0.1792,\tAdjusted R-squared:  0.066 \n",
       "F-statistic: 1.583 on 4 and 29 DF,  p-value: 0.2053\n"
      ]
     },
     "metadata": {},
     "output_type": "display_data"
    }
   ],
   "source": [
    "summary(rdd1)"
   ]
  },
  {
   "cell_type": "code",
   "execution_count": 25,
   "metadata": {
    "collapsed": true
   },
   "outputs": [],
   "source": [
    "rdd2 = lm(CrimeCount ~ TimeBin + TimeSq + Crowd + Crowd * TimeBin + Crowd * TimeSq, data = crime2015)"
   ]
  },
  {
   "cell_type": "code",
   "execution_count": null,
   "metadata": {
    "collapsed": true
   },
   "outputs": [],
   "source": []
  }
 ],
 "metadata": {
  "kernelspec": {
   "display_name": "R",
   "language": "R",
   "name": "ir"
  },
  "language_info": {
   "codemirror_mode": "r",
   "file_extension": ".r",
   "mimetype": "text/x-r-source",
   "name": "R",
   "pygments_lexer": "r",
   "version": "3.2.3"
  }
 },
 "nbformat": 4,
 "nbformat_minor": 2
}
