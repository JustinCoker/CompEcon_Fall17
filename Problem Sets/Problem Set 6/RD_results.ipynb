{
 "cells": [
  {
   "cell_type": "code",
   "execution_count": 77,
   "metadata": {},
   "outputs": [],
   "source": [
    "crime2015 <- read.csv(\"bin_crime2015\", header=TRUE, sep=\",\")\n",
    "crime2016 <- read.csv(\"bin_crime2016\", header=TRUE, sep=',')"
   ]
  },
  {
   "cell_type": "code",
   "execution_count": 78,
   "metadata": {},
   "outputs": [
    {
     "data": {
      "text/html": [
       "<ol class=list-inline>\n",
       "\t<li>'X'</li>\n",
       "\t<li>'CrimeCount'</li>\n",
       "\t<li>'Crowd'</li>\n",
       "\t<li>'TimeBin'</li>\n",
       "\t<li>'TimeSq'</li>\n",
       "</ol>\n"
      ],
      "text/latex": [
       "\\begin{enumerate*}\n",
       "\\item 'X'\n",
       "\\item 'CrimeCount'\n",
       "\\item 'Crowd'\n",
       "\\item 'TimeBin'\n",
       "\\item 'TimeSq'\n",
       "\\end{enumerate*}\n"
      ],
      "text/markdown": [
       "1. 'X'\n",
       "2. 'CrimeCount'\n",
       "3. 'Crowd'\n",
       "4. 'TimeBin'\n",
       "5. 'TimeSq'\n",
       "\n",
       "\n"
      ],
      "text/plain": [
       "[1] \"X\"          \"CrimeCount\" \"Crowd\"      \"TimeBin\"    \"TimeSq\"    "
      ]
     },
     "metadata": {},
     "output_type": "display_data"
    }
   ],
   "source": [
    "names(crime2015)"
   ]
  },
  {
   "cell_type": "code",
   "execution_count": 79,
   "metadata": {},
   "outputs": [],
   "source": [
    "rdd2015_lin = lm(CrimeCount ~ Crowd + TimeBin  + Crowd * TimeBin, data = crime2015)\n",
    "rdd2016_lin = lm(CrimeCount ~ Crowd + TimeBin  + Crowd * TimeBin, data = crime2016)\n",
    "#fit linear function"
   ]
  },
  {
   "cell_type": "code",
   "execution_count": 80,
   "metadata": {},
   "outputs": [],
   "source": [
    "rdd2015_quad = lm(CrimeCount ~ Crowd + TimeBin + TimeSq + Crowd * TimeBin + Crowd * TimeSq, data = crime2015)\n",
    "rdd2016_quad = lm(CrimeCount ~ Crowd + TimeBin + TimeSq + Crowd * TimeBin + Crowd * TimeSq, data = crime2016)\n",
    "\n",
    "#fit quadratic function on both sides of the cut points"
   ]
  },
  {
   "cell_type": "code",
   "execution_count": 81,
   "metadata": {},
   "outputs": [],
   "source": [
    "rdd2015_diff = lm(CrimeCount ~ Crowd + TimeBin + Crowd * TimeBin + Crowd * TimeSq, data = crime2015)\n",
    "rdd2016_diff = lm(CrimeCount ~ Crowd + TimeBin + Crowd * TimeBin + Crowd * TimeSq, data = crime2016)\n",
    "\n",
    "# fit different function on each side of the cutpoint"
   ]
  },
  {
   "cell_type": "code",
   "execution_count": 82,
   "metadata": {},
   "outputs": [],
   "source": [
    "#install.packages('texreg')"
   ]
  },
  {
   "cell_type": "code",
   "execution_count": 83,
   "metadata": {},
   "outputs": [],
   "source": [
    "library(\"texreg\")"
   ]
  },
  {
   "cell_type": "code",
   "execution_count": 84,
   "metadata": {},
   "outputs": [
    {
     "name": "stdout",
     "output_type": "stream",
     "text": [
      "\n",
      "\\begin{table}[hb!]\n",
      "\\begin{center}\n",
      "\\begin{tabular}{l D{.}{.}{2.5} D{.}{.}{2.4} D{.}{.}{2.4} }\n",
      "\\toprule\n",
      " & \\multicolumn{1}{c}{Model 1} & \\multicolumn{1}{c}{Model 2} & \\multicolumn{1}{c}{Model 3} \\\\\n",
      "\\midrule\n",
      "(Intercept)   & 1.85^{***} & 1.72^{**} & 1.72^{**} \\\\\n",
      "              & (0.37)     & (0.48)    & (0.48)    \\\\\n",
      "Crowd         & 0.07       & 1.52^{*}  & 1.52^{*}  \\\\\n",
      "              & (0.53)     & (0.68)    & (0.68)    \\\\\n",
      "TimeBin       & 0.01       & -0.00     & -0.00     \\\\\n",
      "              & (0.01)     & (0.03)    & (0.03)    \\\\\n",
      "Crowd:TimeBin & -0.01      & -0.11^{*} & -0.11^{*} \\\\\n",
      "              & (0.01)     & (0.04)    & (0.04)    \\\\\n",
      "TimeSq        &            & -0.00     & -0.00     \\\\\n",
      "              &            & (0.00)    & (0.00)    \\\\\n",
      "Crowd:TimeSq  &            & 0.00^{**} & 0.00^{**} \\\\\n",
      "              &            & (0.00)    & (0.00)    \\\\\n",
      "\\midrule\n",
      "R$^2$         & 0.06       & 0.36      & 0.36      \\\\\n",
      "Adj. R$^2$    & -0.04      & 0.25      & 0.25      \\\\\n",
      "Num. obs.     & 34         & 34        & 34        \\\\\n",
      "RMSE          & 0.77       & 0.65      & 0.65      \\\\\n",
      "\\bottomrule\n",
      "\\multicolumn{4}{l}{\\scriptsize{$^{***}p<0.001$, $^{**}p<0.01$, $^*p<0.05$}}\n",
      "\\end{tabular}\n",
      "\\caption{RDD Model of 2015 Data}\n",
      "\\label{tab:3}\n",
      "\\end{center}\n",
      "\\end{table}\n"
     ]
    }
   ],
   "source": [
    "print(texreg(list(rdd2015_lin, rdd2015_quad, rdd2015_diff), dcolumn = TRUE, booktabs = TRUE,\n",
    "       use.packages = FALSE, label = \"tab:3\", caption = \"RDD Model of 2015 Data\", \n",
    "       float.pos = \"hb!\")) "
   ]
  },
  {
   "cell_type": "code",
   "execution_count": 85,
   "metadata": {},
   "outputs": [
    {
     "name": "stdout",
     "output_type": "stream",
     "text": [
      "\n",
      "\\begin{table}[hb!]\n",
      "\\begin{center}\n",
      "\\begin{tabular}{l D{.}{.}{2.5} D{.}{.}{2.4} D{.}{.}{2.4} }\n",
      "\\toprule\n",
      " & \\multicolumn{1}{c}{Model 1} & \\multicolumn{1}{c}{Model 2} & \\multicolumn{1}{c}{Model 3} \\\\\n",
      "\\midrule\n",
      "(Intercept)   & 1.77^{***} & 1.35^{**} & 1.35^{**} \\\\\n",
      "              & (0.31)     & (0.46)    & (0.46)    \\\\\n",
      "Crowd         & 0.23       & 1.04      & 1.04      \\\\\n",
      "              & (0.43)     & (0.64)    & (0.64)    \\\\\n",
      "TimeBin       & -0.00      & -0.04     & -0.04     \\\\\n",
      "              & (0.01)     & (0.03)    & (0.03)    \\\\\n",
      "Crowd:TimeBin & -0.01      & -0.00     & -0.00     \\\\\n",
      "              & (0.01)     & (0.04)    & (0.04)    \\\\\n",
      "TimeSq        &            & -0.00     & -0.00     \\\\\n",
      "              &            & (0.00)    & (0.00)    \\\\\n",
      "Crowd:TimeSq  &            & 0.00      & 0.00      \\\\\n",
      "              &            & (0.00)    & (0.00)    \\\\\n",
      "\\midrule\n",
      "R$^2$         & 0.04       & 0.13      & 0.13      \\\\\n",
      "Adj. R$^2$    & -0.06      & -0.03     & -0.03     \\\\\n",
      "Num. obs.     & 34         & 34        & 34        \\\\\n",
      "RMSE          & 0.63       & 0.62      & 0.62      \\\\\n",
      "\\bottomrule\n",
      "\\multicolumn{4}{l}{\\scriptsize{$^{***}p<0.001$, $^{**}p<0.01$, $^*p<0.05$}}\n",
      "\\end{tabular}\n",
      "\\caption{RDD Model of 2016 Data}\n",
      "\\label{tab:3}\n",
      "\\end{center}\n",
      "\\end{table}\n"
     ]
    }
   ],
   "source": [
    "print(texreg(list(rdd2016_lin, rdd2016_quad, rdd2016_diff), dcolumn = TRUE, booktabs = TRUE,\n",
    "       use.packages = FALSE, label = \"tab:3\", caption = \"RDD Model of 2016 Data\", \n",
    "       float.pos = \"hb!\")) "
   ]
  },
  {
   "cell_type": "code",
   "execution_count": null,
   "metadata": {
    "collapsed": true
   },
   "outputs": [],
   "source": []
  }
 ],
 "metadata": {
  "kernelspec": {
   "display_name": "R",
   "language": "R",
   "name": "ir"
  },
  "language_info": {
   "codemirror_mode": "r",
   "file_extension": ".r",
   "mimetype": "text/x-r-source",
   "name": "R",
   "pygments_lexer": "r",
   "version": "3.2.3"
  }
 },
 "nbformat": 4,
 "nbformat_minor": 2
}
