{
 "cells": [
  {
   "cell_type": "markdown",
   "metadata": {},
   "source": [
    "## Problem Set 3\n",
    "\n",
    "### Justin Coker"
   ]
  },
  {
   "cell_type": "code",
   "execution_count": 1,
   "metadata": {
    "collapsed": true
   },
   "outputs": [],
   "source": [
    "#note: folder \"ancillary files\" must be in the current working directory for this notebook to run.\n",
    "\n",
    "import pandas as pd\n",
    "\n",
    "data = pd.read_stata(\"ancillary files/PS3_data.dta\")"
   ]
  },
  {
   "cell_type": "markdown",
   "metadata": {},
   "source": [
    "## Explore Data"
   ]
  },
  {
   "cell_type": "markdown",
   "metadata": {},
   "source": [
    "We only have Heads of House Hold in our data"
   ]
  },
  {
   "cell_type": "code",
   "execution_count": 2,
   "metadata": {},
   "outputs": [
    {
     "data": {
      "text/plain": [
       "{'Head'}"
      ]
     },
     "execution_count": 2,
     "metadata": {},
     "output_type": "execute_result"
    }
   ],
   "source": [
    "set(data.relhh.values)"
   ]
  },
  {
   "cell_type": "markdown",
   "metadata": {},
   "source": [
    "But, we have both males and females"
   ]
  },
  {
   "cell_type": "code",
   "execution_count": 3,
   "metadata": {},
   "outputs": [
    {
     "data": {
      "text/plain": [
       "{1.0, 2.0}"
      ]
     },
     "execution_count": 3,
     "metadata": {},
     "output_type": "execute_result"
    }
   ],
   "source": [
    "set(data.hsex.values)"
   ]
  },
  {
   "cell_type": "markdown",
   "metadata": {},
   "source": [
    "We have only race = 1, 2, 3, 8, nan"
   ]
  },
  {
   "cell_type": "code",
   "execution_count": 4,
   "metadata": {},
   "outputs": [
    {
     "data": {
      "text/plain": [
       "array([  1.,   2.,   3.,  nan,   8.])"
      ]
     },
     "execution_count": 4,
     "metadata": {},
     "output_type": "execute_result"
    }
   ],
   "source": [
    "data.hrace.unique() \n",
    "# note that we have no hispanics in our data, meaning a coefficient on hispanic dummy variable cannot be estimated."
   ]
  },
  {
   "cell_type": "markdown",
   "metadata": {},
   "source": [
    "We also have individuals who worked 0 hours"
   ]
  },
  {
   "cell_type": "code",
   "execution_count": 5,
   "metadata": {},
   "outputs": [
    {
     "data": {
      "text/plain": [
       "0.0"
      ]
     },
     "execution_count": 5,
     "metadata": {},
     "output_type": "execute_result"
    }
   ],
   "source": [
    "min(set(data.hannhrs.values))"
   ]
  },
  {
   "cell_type": "markdown",
   "metadata": {},
   "source": [
    "## Clean the data"
   ]
  },
  {
   "cell_type": "code",
   "execution_count": 6,
   "metadata": {
    "collapsed": true
   },
   "outputs": [],
   "source": [
    "#dropping female heads of house hold\n",
    "data = data[data.hsex == 1]\n",
    "\n",
    "#dropping individuals younger than 25, or older than 60\n",
    "data = data[data.age <= 60]\n",
    "data = data[data.age >= 25]\n",
    "\n",
    "#dropping individuals with nan hours or annual income\n",
    "data = data.dropna(how='any', subset=['hannhrs', 'hlabinc'])\n",
    "\n",
    "#dropping individuals with 0 annual hours worked (to avoid +inf hourly wage)\n",
    "data = data[data.hannhrs >0]\n",
    "\n",
    "#dropping individuals with race, educ = nan\n",
    "data = data.dropna(how='any', subset=['hrace', 'hyrsed'])\n",
    "\n"
   ]
  },
  {
   "cell_type": "code",
   "execution_count": 7,
   "metadata": {
    "collapsed": true
   },
   "outputs": [],
   "source": [
    "#create hourly wage variable = annual income/annual hours\n",
    "data['hwage'] = data.hlabinc/data.hannhrs\n",
    "\n",
    "#dropping individuals with wage <= 7 \n",
    "data = data[data.hwage > 7]\n",
    "\n",
    "#creating race dummies\n",
    "\n",
    "import numpy as np\n",
    "\n",
    "data['black'] = np.where(data['hrace']==2, 1, 0)\n",
    "\n",
    "data['hispanic'] = np.where(data['hrace']==5, 1, 0)\n",
    "\n",
    "data['other'] = np.where(((data['hrace'] !=1 ) & (data['hrace'] != 2) & (data['hrace'] !=5)), 1, 0)"
   ]
  },
  {
   "cell_type": "markdown",
   "metadata": {},
   "source": [
    "## Check the variables we just created:"
   ]
  },
  {
   "cell_type": "code",
   "execution_count": 8,
   "metadata": {},
   "outputs": [
    {
     "name": "stdout",
     "output_type": "stream",
     "text": [
      "{1.0} Should be ==1 only\n",
      "2.0 Hours should be non-zero\n",
      "7.00025 1717.33 wage should be >7 and finite\n",
      "25.0 60.0 age should be [25, 60]\n",
      "1.0 17.0 edu range\n"
     ]
    }
   ],
   "source": [
    "print(set(data.hsex.values), 'Should be ==1 only')\n",
    "print(min(set(data.hannhrs.values)), 'Hours should be non-zero')\n",
    "print(min(set(data.hwage.values)), max(set(data.hwage.values)), 'wage should be >7 and finite')\n",
    "print(min(set(data.age.values)), max(set(data.age.values)), 'age should be [25, 60]')\n",
    "print(min(set(data.hyrsed.values)), max(set(data.hyrsed.values)), 'edu range')"
   ]
  },
  {
   "cell_type": "code",
   "execution_count": 9,
   "metadata": {},
   "outputs": [
    {
     "name": "stdout",
     "output_type": "stream",
     "text": [
      "{1.0, 2.0, 3.0} only have race = 1, 2, 3\n",
      "3217 3217 These must match\n",
      "0 0 These must match\n",
      "1285 1285 These must match\n",
      "52560 52560 These must match\n",
      "57062\n"
     ]
    }
   ],
   "source": [
    "print(set(data.hrace.values), 'only have race = 1, 2, 3')\n",
    "\n",
    "print(len(data.hrace[data.hrace == 2]), sum(data.black), 'These must match')\n",
    "\n",
    "print(len(data.hrace[data.hrace == 5]), sum(data.hispanic), 'These must match')\n",
    "\n",
    "print(len(data.hrace[(data.hrace != 1) & (data.hrace !=2) & (data.hrace != 5) ]), sum(data.other), 'These must match')\n",
    "\n",
    "white = len(data) - sum(data.black) - sum(data.hispanic) - sum(data.other)\n",
    "print(len(data.hrace[data.hrace == 1]), white, 'These must match')\n",
    "\n",
    "print(len(data)) "
   ]
  },
  {
   "cell_type": "code",
   "execution_count": 10,
   "metadata": {
    "collapsed": true
   },
   "outputs": [],
   "source": [
    "#transforming wage into logs:\n",
    "\n",
    "data['loghwage'] = np.log(data.hwage)\n",
    "\n",
    "#selecting only the data we want to include in our model\n",
    "\n",
    "model_data = data.loc[0:,['id68', 'year', 'loghwage', 'hyrsed', 'age', 'black',  'hispanic', 'other']]"
   ]
  },
  {
   "cell_type": "markdown",
   "metadata": {},
   "source": [
    "## (Negative) log liklihood function"
   ]
  },
  {
   "cell_type": "code",
   "execution_count": 11,
   "metadata": {
    "collapsed": true
   },
   "outputs": [],
   "source": [
    "def norm_LL(B, sd, data, y, x, t, cons = True):\n",
    "    '''\n",
    "    This function returns the negative Log Likelihood of a linear model where observations are i.i.d. with \n",
    "    variance s^2 given parameters.\n",
    "    \n",
    "    Args:\n",
    "        B: a (kx1) array of slope coefficients of the model \n",
    "        \n",
    "        sd: the standard deviation of the error term in the model\n",
    "        \n",
    "        data: a pandas dataframe containing the model data in a panel format (individual over time)\n",
    "        \n",
    "        y: a str, which is the dataframe column name of the outcome variable\n",
    "        \n",
    "        \n",
    "        x: a list of length k, the elements of which are the dataframe column names of the independent variables of the model. \n",
    "    \n",
    "        t: the time period(s) of interest. a list which reflects the time of interest from the panel.\n",
    "           assumes there is a column in the dataframe name 'year'\n",
    "                \n",
    "        cons: boolean True if you wish to have a constant in the model False otherwise. Default = True\n",
    "    '''\n",
    "    \n",
    "    import numpy as np \n",
    "    \n",
    "    #slice the data by the year(s) of interest\n",
    "    use_data = data[data['year'].isin(t)]\n",
    "     \n",
    "    #define the Y vector determined by the column name passed as an arg\n",
    "    outcome = np.matrix(use_data[list(y)])\n",
    "    \n",
    "    #adds a constant to the model depending on the value of cons passed as an arg.\n",
    "    if cons == True:\n",
    "        ind = np.matrix(use_data[x])\n",
    "        constant = np.matrix(np.ones((len(ind), 1)))\n",
    "        ind = np.append(constant, ind, 1)\n",
    "        \n",
    "    if cons == False:\n",
    "        ind = np.matrix(use_data[x])\n",
    "        \n",
    "    #defines n based on the sliced data\n",
    "    n = len(use_data)\n",
    "    \n",
    "    #defines the kx1 beta vector\n",
    "    B = np.matrix(B).T\n",
    "    \n",
    "\n",
    "\n",
    "    #negative log likilihood function for use in optimization\n",
    "    #np.dot((outcome - ind*B).T, (outcome - ind*B)) is (Y-Xb)'*(Y-Xb)\n",
    "    \n",
    "    LL = -1*((n*np.log(2*np.pi) - n*np.log(sd) - (1/sd))*(1/2) - np.dot((outcome - ind*B).T, (outcome - ind*B)))\n",
    "    \n",
    "    return LL\n",
    "\n"
   ]
  },
  {
   "cell_type": "markdown",
   "metadata": {},
   "source": [
    "## Test the log liklihood function with arbitrary betas"
   ]
  },
  {
   "cell_type": "code",
   "execution_count": 12,
   "metadata": {
    "collapsed": true
   },
   "outputs": [],
   "source": [
    "B = np.array((.5,.5,.5,.5,0,.5))\n",
    "\n",
    "sd = 1\n",
    "\n",
    "y = ['loghwage']\n",
    "\n",
    "x = ['hyrsed', 'age', 'black','hispanic', 'other']\n",
    "\n",
    "t = [1986]"
   ]
  },
  {
   "cell_type": "code",
   "execution_count": 13,
   "metadata": {},
   "outputs": [
    {
     "name": "stdout",
     "output_type": "stream",
     "text": [
      "[[ 1159679.43230115]]\n"
     ]
    }
   ],
   "source": [
    "#runs the function using an arbitrary B vector to confirm that the defined matrices conform to matrix multiplication.\n",
    "result = norm_LL(B, sd, model_data, y, x, t)\n",
    "print(result)"
   ]
  },
  {
   "cell_type": "markdown",
   "metadata": {},
   "source": [
    "## optimization routine"
   ]
  },
  {
   "cell_type": "code",
   "execution_count": 14,
   "metadata": {},
   "outputs": [
    {
     "name": "stdout",
     "output_type": "stream",
     "text": [
      "1971  final_simplex: (array([[ 1.55096379,  0.06687878,  0.01439146, -0.16388756,  0.03068777],\n",
      "       [ 1.55096379,  0.06687878,  0.01439146, -0.16388756,  0.03068777],\n",
      "       [ 1.55096379,  0.06687878,  0.01439146, -0.16388756,  0.03068777],\n",
      "       [ 1.55096379,  0.06687878,  0.01439146, -0.16388756,  0.03068777],\n",
      "       [ 1.55096379,  0.06687878,  0.01439146, -0.16388756,  0.03068777],\n",
      "       [ 1.55096379,  0.06687878,  0.01439146, -0.16388756,  0.03068777]]), array([-1035.54516136, -1035.54516136, -1035.54516136, -1035.54516136,\n",
      "       -1035.54516136, -1035.54516136]))\n",
      "           fun: -1035.5451613582861\n",
      "       message: 'Optimization terminated successfully.'\n",
      "          nfev: 1111\n",
      "           nit: 640\n",
      "        status: 0\n",
      "       success: True\n",
      "             x: array([ 1.55096379,  0.06687878,  0.01439146, -0.16388756,  0.03068777])\n",
      "1980  final_simplex: (array([[ 1.61308836,  0.06755585,  0.01269854, -0.10273616,  0.01351125],\n",
      "       [ 1.61308836,  0.06755585,  0.01269854, -0.10273616,  0.01351125],\n",
      "       [ 1.61308836,  0.06755585,  0.01269854, -0.10273616,  0.01351125],\n",
      "       [ 1.61308836,  0.06755585,  0.01269854, -0.10273616,  0.01351125],\n",
      "       [ 1.61308836,  0.06755585,  0.01269854, -0.10273616,  0.01351125],\n",
      "       [ 1.61308836,  0.06755585,  0.01269854, -0.10273616,  0.01351125]]), array([-1330.47398554, -1330.47398554, -1330.47398554, -1330.47398554,\n",
      "       -1330.47398554, -1330.47398554]))\n",
      "           fun: -1330.4739855439698\n",
      "       message: 'Optimization terminated successfully.'\n",
      "          nfev: 1446\n",
      "           nit: 863\n",
      "        status: 0\n",
      "       success: True\n",
      "             x: array([ 1.61308836,  0.06755585,  0.01269854, -0.10273616,  0.01351125])\n",
      "1990  final_simplex: (array([[ 1.11858494,  0.09755808,  0.0134656 , -0.17202427, -0.05971247],\n",
      "       [ 1.11858494,  0.09755808,  0.0134656 , -0.17202427, -0.05971247],\n",
      "       [ 1.11858494,  0.09755808,  0.0134656 , -0.17202427, -0.05971247],\n",
      "       [ 1.11858494,  0.09755808,  0.0134656 , -0.17202427, -0.05971247],\n",
      "       [ 1.11858494,  0.09755808,  0.0134656 , -0.17202427, -0.05971247],\n",
      "       [ 1.11858494,  0.09755808,  0.0134656 , -0.17202427, -0.05971247]]), array([-1378.54614419, -1378.54614419, -1378.54614419, -1378.54614419,\n",
      "       -1378.54614419, -1378.54614419]))\n",
      "           fun: -1378.5461441922489\n",
      "       message: 'Optimization terminated successfully.'\n",
      "          nfev: 1467\n",
      "           nit: 890\n",
      "        status: 0\n",
      "       success: True\n",
      "             x: array([ 1.11858494,  0.09755808,  0.0134656 , -0.17202427, -0.05971247])\n",
      "2000  final_simplex: (array([[ 1.1616909 ,  0.10915436,  0.01099353, -0.24604481, -0.06073245],\n",
      "       [ 1.1616909 ,  0.10915436,  0.01099353, -0.24604481, -0.06073245],\n",
      "       [ 1.1616909 ,  0.10915436,  0.01099353, -0.24604481, -0.06073245],\n",
      "       [ 1.1616909 ,  0.10915436,  0.01099353, -0.24604481, -0.06073245],\n",
      "       [ 1.1616909 ,  0.10915436,  0.01099353, -0.24604481, -0.06073245],\n",
      "       [ 1.1616909 ,  0.10915436,  0.01099353, -0.24604481, -0.06073245]]), array([-1619.26647492, -1619.26647492, -1619.26647492, -1619.26647492,\n",
      "       -1619.26647492, -1619.26647492]))\n",
      "           fun: -1619.2664749203827\n",
      "       message: 'Optimization terminated successfully.'\n",
      "          nfev: 1460\n",
      "           nit: 877\n",
      "        status: 0\n",
      "       success: True\n",
      "             x: array([ 1.1616909 ,  0.10915436,  0.01099353, -0.24604481, -0.06073245])\n"
     ]
    }
   ],
   "source": [
    "import scipy.optimize as opt\n",
    "\n",
    "\n",
    "# parameters\n",
    "B = np.array((.5,.5,.5,.5,.5))\n",
    "\n",
    "sd = 1 #arbitrarily set to 1, doesn't impact the coef estimates only the SE's\n",
    "\n",
    "y = ['loghwage'] #log wage is our outcome\n",
    "\n",
    "x = ['hyrsed', 'age', 'black', 'other'] \n",
    "# there are 0 hispanic individuals in the data, therefore, this variable must be dropped.\n",
    "\n",
    "#empty list to hold the coef estimates from the optimization routine\n",
    "coefs = []\n",
    "\n",
    "#loop over the years of interest: 1971, 1980, 1990, 2000\n",
    "for el in [1971, 1980, 1990, 2000]:\n",
    "    params = (sd, model_data, y, x, [el]) #parameters to pass as arguments to the LL function\n",
    "    beta = opt.minimize(norm_LL, B, args = params, method = 'Nelder-Mead', tol = 1e-10, options={'maxiter': 5000})\n",
    "    coefs.append(beta.x) #appends only coef estimates to the coefs list, useful for printing later\n",
    "    print(el, beta) #prints all of the output for each year of interest"
   ]
  },
  {
   "cell_type": "code",
   "execution_count": null,
   "metadata": {
    "collapsed": true
   },
   "outputs": [],
   "source": []
  },
  {
   "cell_type": "code",
   "execution_count": 15,
   "metadata": {},
   "outputs": [
    {
     "name": "stdout",
     "output_type": "stream",
     "text": [
      "\n",
      "The fitted model in 1971 is given by:\n",
      "1.55096  +  0.06688 * Educ +  0.01439 * Age +  -0.16389 * Black +  0.03069 * OtherRaces + e\n",
      "\n",
      "The fitted model in 1980 is given by:\n",
      "1.61309  +  0.06756 * Educ +  0.0127 * Age +  -0.10274 * Black +  0.01351 * OtherRaces + e\n",
      "\n",
      "The fitted model in 1990 is given by:\n",
      "1.11858  +  0.09756 * Educ +  0.01347 * Age +  -0.17202 * Black +  -0.05971 * OtherRaces + e\n",
      "\n",
      "The fitted model in 2000 is given by:\n",
      "1.16169  +  0.10915 * Educ +  0.01099 * Age +  -0.24604 * Black +  -0.06073 * OtherRaces + e\n"
     ]
    }
   ],
   "source": [
    "#prints model estimates for each year in linear form.\n",
    "\n",
    "yrs = ['1971', '1980', '1990', '2000']\n",
    "coefs_r = np.around(coefs, decimals = 5) #round for visualization\n",
    "for i in range(len(yrs)):\n",
    "    print('')\n",
    "    print('The fitted model in', yrs[i], 'is given by:')\n",
    "    print(coefs_r[i][0],' + ', coefs_r[i][1], '* Educ + ', coefs_r[i][2],'* Age + ', coefs_r[i][3], '* Black + ', coefs_r[i][4], '* OtherRaces + e' )"
   ]
  },
  {
   "cell_type": "markdown",
   "metadata": {
    "collapsed": true
   },
   "source": [
    "# Note that the coefficient on Educ is interpretted as: a 1 unit change in Education (i.e. one additional year) results in a $\\beta_1$ %$\\Delta$ in wages, on average."
   ]
  },
  {
   "cell_type": "markdown",
   "metadata": {
    "collapsed": true
   },
   "source": [
    "## Testing against the OLS estimator: $(X^\\prime X)^{-1}X^\\prime  y$"
   ]
  },
  {
   "cell_type": "code",
   "execution_count": 16,
   "metadata": {},
   "outputs": [
    {
     "name": "stdout",
     "output_type": "stream",
     "text": [
      "1971 [[ 1.55096381]\n",
      " [ 0.06687878]\n",
      " [ 0.01439146]\n",
      " [-0.16388756]\n",
      " [ 0.03068777]]\n",
      "1980 [[ 1.61308834]\n",
      " [ 0.06755585]\n",
      " [ 0.01269854]\n",
      " [-0.10273616]\n",
      " [ 0.01351126]]\n",
      "1990 [[ 1.11858494]\n",
      " [ 0.09755808]\n",
      " [ 0.0134656 ]\n",
      " [-0.17202429]\n",
      " [-0.05971249]]\n",
      "2000 [[ 1.16169085]\n",
      " [ 0.10915436]\n",
      " [ 0.01099353]\n",
      " [-0.24604481]\n",
      " [-0.06073245]]\n"
     ]
    }
   ],
   "source": [
    "#prints the coeficient estimates given by the OLS estimator: \n",
    "#These should be identical (or very close) to the estimates from the optimization routine\n",
    "\n",
    "OLS = []\n",
    "for el in [1971, 1980, 1990, 2000]:\n",
    "    \n",
    "    use_data = model_data[model_data['year'] == el]\n",
    "    \n",
    "    ind = np.matrix(use_data[['hyrsed', 'age', 'black', 'other']])\n",
    "    \n",
    "    constant = np.matrix(np.ones((len(ind), 1))) #creates a vector of ones for the constant\n",
    "    \n",
    "    ind = np.append(constant, ind, 1) #adds the constant column to the X matrix\n",
    "    \n",
    "    outcome = np.matrix(use_data[y])\n",
    "    \n",
    "    OLS.append(np.linalg.inv((ind.T*ind))*ind.T*outcome)\n",
    "    print(el, np.linalg.inv((ind.T*ind))*ind.T*outcome) #(X'X)^-1*X'Y \n",
    "    \n",
    "    "
   ]
  },
  {
   "cell_type": "code",
   "execution_count": 17,
   "metadata": {},
   "outputs": [
    {
     "name": "stdout",
     "output_type": "stream",
     "text": [
      "2.02505501257e-09\n",
      "1.70367451258e-08\n",
      "1.97308404962e-08\n",
      "5.25139594032e-08\n",
      "We can see that our MLE estimates are practically identical to the OLS estimates.\n"
     ]
    }
   ],
   "source": [
    "# Calculates the maximum symmetric difference between the vectors of OLS and MLE estimates:\n",
    "\n",
    "for i in range(len(coefs)):\n",
    "    print((np.matrix(coefs[i]) - OLS[i].T).max())\n",
    "    \n",
    "print('We can see that our MLE estimates are practically identical to the OLS estimates.') \n"
   ]
  },
  {
   "cell_type": "markdown",
   "metadata": {},
   "source": [
    "## Checking against output from Stata reg command"
   ]
  },
  {
   "cell_type": "code",
   "execution_count": 18,
   "metadata": {},
   "outputs": [
    {
     "data": {
      "image/png": "[encoded data removed]",
      "text/plain": [
       "<IPython.core.display.Image object>"
      ]
     },
     "execution_count": 18,
     "metadata": {},
     "output_type": "execute_result"
    }
   ],
   "source": [
    "#Displays formatted output from running the same regressions in stata\n",
    "#We see that the rounded coefficient estimates are identical\n",
    "\n",
    "from IPython.display import Image\n",
    "Image(\"ancillary files/stata_output.png\")"
   ]
  },
  {
   "cell_type": "markdown",
   "metadata": {},
   "source": [
    "\n",
    "            \n",
    "            "
   ]
  },
  {
   "cell_type": "markdown",
   "metadata": {
    "collapsed": true
   },
   "source": [
    "## The graph below shows how the returns to education have changed over time\n",
    "\n",
    "### As expected, the returns to education appear to be increasing"
   ]
  },
  {
   "cell_type": "code",
   "execution_count": 19,
   "metadata": {},
   "outputs": [
    {
     "data": {
      "image/png": "[encoded data removed]",
      "text/plain": [
       "<matplotlib.figure.Figure at 0x7ff5c7f4eb38>"
      ]
     },
     "metadata": {},
     "output_type": "display_data"
    }
   ],
   "source": [
    "import matplotlib.pyplot as plt\n",
    "\n",
    "\n",
    "plt.rcParams.update({'font.size': 16})\n",
    "\n",
    "\n",
    "\n",
    "x_axis = []\n",
    "for i in range(len(coefs)):\n",
    "    x_axis.append(coefs[i][1]*100)\n",
    "x_axis = np.array(x_axis)\n",
    "y_axis = np.array(['1971', '1980', '1990', '2000'])\n",
    "\n",
    "fig = plt.figure(figsize=(20,10))\n",
    "fig.suptitle('Returns to Education Over Time', fontsize=25, fontweight='bold')\n",
    "ax = fig.add_subplot(111)\n",
    "ax.set_xlabel('Year')\n",
    "ax.set_ylabel('% Change in wage from 1 additional year of Edu')\n",
    "ax.plot(y_axis, x_axis)\n",
    "plt.show()"
   ]
  },
  {
   "cell_type": "code",
   "execution_count": null,
   "metadata": {
    "collapsed": true
   },
   "outputs": [],
   "source": []
  },
  {
   "cell_type": "code",
   "execution_count": null,
   "metadata": {
    "collapsed": true
   },
   "outputs": [],
   "source": [
    "\n"
   ]
  },
  {
   "cell_type": "code",
   "execution_count": null,
   "metadata": {
    "collapsed": true
   },
   "outputs": [],
   "source": []
  },
  {
   "cell_type": "code",
   "execution_count": null,
   "metadata": {
    "collapsed": true
   },
   "outputs": [],
   "source": []
  },
  {
   "cell_type": "code",
   "execution_count": null,
   "metadata": {
    "collapsed": true
   },
   "outputs": [],
   "source": []
  },
  {
   "cell_type": "code",
   "execution_count": null,
   "metadata": {
    "collapsed": true
   },
   "outputs": [],
   "source": []
  },
  {
   "cell_type": "code",
   "execution_count": null,
   "metadata": {
    "collapsed": true
   },
   "outputs": [],
   "source": []
  },
  {
   "cell_type": "code",
   "execution_count": null,
   "metadata": {
    "collapsed": true
   },
   "outputs": [],
   "source": []
  }
 ],
 "metadata": {
  "kernelspec": {
   "display_name": "Python 3",
   "language": "python",
   "name": "python3"
  },
  "language_info": {
   "codemirror_mode": {
    "name": "ipython",
    "version": 3
   },
   "file_extension": ".py",
   "mimetype": "text/x-python",
   "name": "python",
   "nbconvert_exporter": "python",
   "pygments_lexer": "ipython3",
   "version": "3.6.1"
  }
 },
 "nbformat": 4,
 "nbformat_minor": 2
}
