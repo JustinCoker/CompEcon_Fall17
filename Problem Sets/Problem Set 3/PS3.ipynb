{
 "cells": [
  {
   "cell_type": "code",
   "execution_count": 285,
   "metadata": {
    "collapsed": true
   },
   "outputs": [],
   "source": [
    "import pandas as pd\n",
    "\n",
    "data = pd.read_stata('PS3_data.dta')"
   ]
  },
  {
   "cell_type": "markdown",
   "metadata": {},
   "source": [
    "## Explore Data"
   ]
  },
  {
   "cell_type": "markdown",
   "metadata": {},
   "source": [
    "We only have Heads of House Hold in our data"
   ]
  },
  {
   "cell_type": "code",
   "execution_count": 286,
   "metadata": {},
   "outputs": [
    {
     "data": {
      "text/plain": [
       "{'Head'}"
      ]
     },
     "execution_count": 286,
     "metadata": {},
     "output_type": "execute_result"
    }
   ],
   "source": [
    "set(data.relhh.values)"
   ]
  },
  {
   "cell_type": "markdown",
   "metadata": {},
   "source": [
    "But, we have both males and females"
   ]
  },
  {
   "cell_type": "code",
   "execution_count": 287,
   "metadata": {},
   "outputs": [
    {
     "data": {
      "text/plain": [
       "{1.0, 2.0}"
      ]
     },
     "execution_count": 287,
     "metadata": {},
     "output_type": "execute_result"
    }
   ],
   "source": [
    "set(data.hsex.values)"
   ]
  },
  {
   "cell_type": "markdown",
   "metadata": {},
   "source": [
    "We have only race = 1, 2, 3, 8, nan"
   ]
  },
  {
   "cell_type": "code",
   "execution_count": 288,
   "metadata": {},
   "outputs": [
    {
     "data": {
      "text/plain": [
       "array([  1.,   2.,   3.,  nan,   8.])"
      ]
     },
     "execution_count": 288,
     "metadata": {},
     "output_type": "execute_result"
    }
   ],
   "source": [
    "data.hrace.unique() # note that we have no hispanics in our data, meaning a coefficient on hispanic dummy variable cannot be estimated."
   ]
  },
  {
   "cell_type": "markdown",
   "metadata": {},
   "source": [
    "We also have individuals who worked 0 hours"
   ]
  },
  {
   "cell_type": "code",
   "execution_count": 289,
   "metadata": {},
   "outputs": [
    {
     "data": {
      "text/plain": [
       "0.0"
      ]
     },
     "execution_count": 289,
     "metadata": {},
     "output_type": "execute_result"
    }
   ],
   "source": [
    "min(set(data.hannhrs.values))"
   ]
  },
  {
   "cell_type": "markdown",
   "metadata": {},
   "source": [
    "## Clean the data"
   ]
  },
  {
   "cell_type": "code",
   "execution_count": 290,
   "metadata": {
    "collapsed": true
   },
   "outputs": [],
   "source": [
    "#dropping female heads of house hold\n",
    "data = data[data.hsex == 1]\n",
    "\n",
    "#dropping individuals younger than 25, or older than 60\n",
    "data = data[data.age <= 60]\n",
    "data = data[data.age >= 25]\n",
    "\n",
    "#dropping individuals with nan hours or annual income\n",
    "data = data.dropna(how='any', subset=['hannhrs', 'hlabinc'])\n",
    "\n",
    "#dropping individuals with 0 annual hours worked (to avoid +inf hourly wage)\n",
    "data = data[data.hannhrs >0]\n",
    "\n",
    "#dropping individuals with race, educ = nan\n",
    "data = data.dropna(how='any', subset=['hrace', 'hyrsed'])\n",
    "\n"
   ]
  },
  {
   "cell_type": "code",
   "execution_count": 291,
   "metadata": {
    "collapsed": true
   },
   "outputs": [],
   "source": [
    "#create hourly wage variable = annual income/annual hours\n",
    "data['hwage'] = data.hlabinc/data.hannhrs\n",
    "\n",
    "#dropping individuals with wage <= 7 \n",
    "data = data[data.hwage > 7]\n",
    "\n",
    "#creating race dummies\n",
    "\n",
    "import numpy as np\n",
    "\n",
    "data['black'] = np.where(data['hrace']==2, 1, 0)\n",
    "\n",
    "data['hispanic'] = np.where(data['hrace']==5, 1, 0)\n",
    "\n",
    "data['other'] = np.where(((data['hrace'] !=1 ) & (data['hrace'] != 2) & (data['hrace'] !=5)), 1, 0)"
   ]
  },
  {
   "cell_type": "markdown",
   "metadata": {},
   "source": [
    "## Check the variables we just created:"
   ]
  },
  {
   "cell_type": "code",
   "execution_count": 292,
   "metadata": {},
   "outputs": [
    {
     "name": "stdout",
     "output_type": "stream",
     "text": [
      "{1.0} Should be ==1 only\n",
      "2.0 Hours should be non-zero\n",
      "7.00025 1717.33 wage should be >7 and finite\n",
      "25.0 60.0 age should be [25, 60]\n",
      "1.0 17.0 edu range\n"
     ]
    }
   ],
   "source": [
    "print(set(data.hsex.values), 'Should be ==1 only')\n",
    "print(min(set(data.hannhrs.values)), 'Hours should be non-zero')\n",
    "print(min(set(data.hwage.values)), max(set(data.hwage.values)), 'wage should be >7 and finite')\n",
    "print(min(set(data.age.values)), max(set(data.age.values)), 'age should be [25, 60]')\n",
    "print(min(set(data.hyrsed.values)), max(set(data.hyrsed.values)), 'edu range')"
   ]
  },
  {
   "cell_type": "code",
   "execution_count": 293,
   "metadata": {},
   "outputs": [
    {
     "name": "stdout",
     "output_type": "stream",
     "text": [
      "{1.0, 2.0, 3.0} only have race = 1, 2, 3\n",
      "3217 3217 These must match\n",
      "0 0 These must match\n",
      "1285 1285 These must match\n",
      "52560 52560 These must match\n",
      "57062\n"
     ]
    }
   ],
   "source": [
    "print(set(data.hrace.values), 'only have race = 1, 2, 3')\n",
    "\n",
    "print(len(data.hrace[data.hrace == 2]), sum(data.black), 'These must match')\n",
    "\n",
    "print(len(data.hrace[data.hrace == 5]), sum(data.hispanic), 'These must match')\n",
    "\n",
    "print(len(data.hrace[(data.hrace != 1) & (data.hrace !=2) & (data.hrace != 5) ]), sum(data.other), 'These must match')\n",
    "\n",
    "white = len(data) - sum(data.black) - sum(data.hispanic) - sum(data.other)\n",
    "print(len(data.hrace[data.hrace == 1]), white, 'These must match')\n",
    "\n",
    "print(len(data)) "
   ]
  },
  {
   "cell_type": "code",
   "execution_count": 294,
   "metadata": {
    "collapsed": true
   },
   "outputs": [],
   "source": [
    "#transforming wage into logs:\n",
    "\n",
    "data['loghwage'] = np.log(data.hwage)"
   ]
  },
  {
   "cell_type": "markdown",
   "metadata": {},
   "source": [
    "## Removing unecessary data"
   ]
  },
  {
   "cell_type": "code",
   "execution_count": 295,
   "metadata": {
    "collapsed": true
   },
   "outputs": [],
   "source": [
    "model_data = data.loc[0:,['id68', 'year', 'loghwage', 'hyrsed', 'age', 'black',  'hispanic', 'other']]"
   ]
  },
  {
   "cell_type": "markdown",
   "metadata": {},
   "source": [
    "## negative log liklihood function"
   ]
  },
  {
   "cell_type": "code",
   "execution_count": 296,
   "metadata": {
    "collapsed": true
   },
   "outputs": [],
   "source": [
    "def norm_LL(B, sd, data, y, x, t):\n",
    "    '''\n",
    "    This function returns the negative Log Likelihood of a linear model where observations are i.i.d. with \n",
    "    variance s^2 given parameters.\n",
    "    \n",
    "    Args:\n",
    "        B: a (kx1) array of slope coefficients of the model \n",
    "        \n",
    "        sd: the standard deviation of the error term in the model\n",
    "        \n",
    "        data: a pandas dataframe containing the model data in a panel format (individual over time)\n",
    "        \n",
    "        y: a str, which is the outcome variable of the model matching the dataframe column name\n",
    "        \n",
    "        \n",
    "        x: a list of lenght k, the elements of which are the independent variables of the model matchin the dataframe column names\n",
    "    \n",
    "        t: the time period(s) of interest. a list of length m which reflects the time of interest from the panel.\n",
    "    '''\n",
    "    \n",
    "    import numpy as np\n",
    "    \n",
    "    use_data = data[data['year'].isin(t)]\n",
    "    \n",
    "    outcome = np.matrix(use_data[list(y)])\n",
    "    \n",
    "    ind = np.matrix(use_data[x])\n",
    "    \n",
    "    n = len(use_data)\n",
    "    \n",
    "    B = np.matrix(B).T\n",
    "    \n",
    "    #negative log likilihood for use in optimization\n",
    "    LL = -1*((n*np.log(2*np.pi) - n*np.log(sd) - (1/sd))*(1/2) - np.dot((outcome - ind*B).T, (outcome - ind*B)))\n",
    "    \n",
    "    return LL"
   ]
  },
  {
   "cell_type": "markdown",
   "metadata": {},
   "source": [
    "## Test the log liklihood function with arbitrary betas"
   ]
  },
  {
   "cell_type": "code",
   "execution_count": 297,
   "metadata": {},
   "outputs": [],
   "source": [
    "B = np.array((.5,.5,.5,0,.5))\n"
   ]
  },
  {
   "cell_type": "code",
   "execution_count": 298,
   "metadata": {
    "collapsed": true
   },
   "outputs": [],
   "source": [
    "sd = 1\n",
    "\n",
    "y = ['loghwage']\n",
    "\n",
    "x = ['hyrsed', 'age', 'black','hispanic', 'other']\n",
    "\n",
    "t = [1986]\n",
    "\n",
    "params = (sd, model_data, y, x, t)"
   ]
  },
  {
   "cell_type": "code",
   "execution_count": 299,
   "metadata": {},
   "outputs": [
    {
     "name": "stdout",
     "output_type": "stream",
     "text": [
      "[[ 1112974.97819982]]\n"
     ]
    }
   ],
   "source": [
    "result = norm_LL(B, sd, model_data, y, x, t)\n",
    "print(result)"
   ]
  },
  {
   "cell_type": "code",
   "execution_count": 300,
   "metadata": {},
   "outputs": [],
   "source": [
    "import scipy.optimize as opt\n",
    "\n",
    "beta = opt.minimize(norm_LL, B, args = params, method = 'Nelder-Mead', tol = 1e-15, options={'maxiter': 5000})"
   ]
  },
  {
   "cell_type": "code",
   "execution_count": 301,
   "metadata": {},
   "outputs": [
    {
     "data": {
      "text/plain": [
       " final_simplex: (array([[ 0.1469785 ,  0.02488293, -0.09153699, -0.00203115, -0.04343903],\n",
       "       [ 0.1469785 ,  0.02488293, -0.09153699, -0.00203115, -0.04343903],\n",
       "       [ 0.1469785 ,  0.02488293, -0.09153699, -0.00203115, -0.04343903],\n",
       "       [ 0.1469785 ,  0.02488293, -0.09153699, -0.00203115, -0.04343903],\n",
       "       [ 0.1469785 ,  0.02488293, -0.09153699, -0.00203115, -0.04343903],\n",
       "       [ 0.1469785 ,  0.02488293, -0.09153699, -0.00203115, -0.04343903]]), array([-1317.71546513, -1317.71546513, -1317.71546513, -1317.71546513,\n",
       "       -1317.71546513, -1317.71546513]))\n",
       "           fun: -1317.7154651329122\n",
       "       message: 'Optimization terminated successfully.'\n",
       "          nfev: 1023\n",
       "           nit: 534\n",
       "        status: 0\n",
       "       success: True\n",
       "             x: array([ 0.1469785 ,  0.02488293, -0.09153699, -0.00203115, -0.04343903])"
      ]
     },
     "execution_count": 301,
     "metadata": {},
     "output_type": "execute_result"
    }
   ],
   "source": [
    "beta"
   ]
  },
  {
   "cell_type": "code",
   "execution_count": null,
   "metadata": {},
   "outputs": [],
   "source": []
  },
  {
   "cell_type": "code",
   "execution_count": 302,
   "metadata": {},
   "outputs": [],
   "source": [
    "use_data = model_data[model_data['year'] == 1986]"
   ]
  },
  {
   "cell_type": "code",
   "execution_count": null,
   "metadata": {},
   "outputs": [],
   "source": []
  },
  {
   "cell_type": "code",
   "execution_count": 303,
   "metadata": {
    "collapsed": true
   },
   "outputs": [],
   "source": [
    "ind = np.matrix(use_data[['hyrsed', 'age', 'black', 'other']])\n",
    "outcome = np.matrix(use_data[y])"
   ]
  },
  {
   "cell_type": "code",
   "execution_count": 304,
   "metadata": {},
   "outputs": [
    {
     "data": {
      "text/plain": [
       "matrix([[ 0.1469785 ],\n",
       "        [ 0.02488293],\n",
       "        [-0.09153699],\n",
       "        [-0.04343898]])"
      ]
     },
     "execution_count": 304,
     "metadata": {},
     "output_type": "execute_result"
    }
   ],
   "source": [
    "np.linalg.inv((ind.T*ind))*ind.T*outcome"
   ]
  },
  {
   "cell_type": "code",
   "execution_count": 305,
   "metadata": {},
   "outputs": [
    {
     "data": {
      "text/plain": [
       "True"
      ]
     },
     "execution_count": 305,
     "metadata": {},
     "output_type": "execute_result"
    }
   ],
   "source": [
    "set(use_data['hispanic'])=={0}"
   ]
  },
  {
   "cell_type": "code",
   "execution_count": 306,
   "metadata": {},
   "outputs": [
    {
     "data": {
      "text/plain": [
       "['hyrsed', 'age', 'black', 'hispanic', 'other']"
      ]
     },
     "execution_count": 306,
     "metadata": {},
     "output_type": "execute_result"
    }
   ],
   "source": [
    "x"
   ]
  },
  {
   "cell_type": "code",
   "execution_count": 307,
   "metadata": {},
   "outputs": [],
   "source": [
    "x.remove('hispanic')\n"
   ]
  },
  {
   "cell_type": "code",
   "execution_count": 308,
   "metadata": {},
   "outputs": [
    {
     "data": {
      "text/plain": [
       "['hyrsed', 'age', 'black', 'other']"
      ]
     },
     "execution_count": 308,
     "metadata": {},
     "output_type": "execute_result"
    }
   ],
   "source": [
    "x"
   ]
  },
  {
   "cell_type": "code",
   "execution_count": null,
   "metadata": {
    "collapsed": true
   },
   "outputs": [],
   "source": []
  }
 ],
 "metadata": {
  "kernelspec": {
   "display_name": "Python 3",
   "language": "python",
   "name": "python3"
  },
  "language_info": {
   "codemirror_mode": {
    "name": "ipython",
    "version": 3
   },
   "file_extension": ".py",
   "mimetype": "text/x-python",
   "name": "python",
   "nbconvert_exporter": "python",
   "pygments_lexer": "ipython3",
   "version": "3.6.1"
  }
 },
 "nbformat": 4,
 "nbformat_minor": 2
}
