{
 "cells": [
  {
   "cell_type": "code",
   "execution_count": 58,
   "metadata": {
    "collapsed": true
   },
   "outputs": [],
   "source": [
    "import pandas as pd\n",
    "\n",
    "data = pd.read_stata('PS3_data.dta')"
   ]
  },
  {
   "cell_type": "markdown",
   "metadata": {},
   "source": [
    "## Explore Data"
   ]
  },
  {
   "cell_type": "markdown",
   "metadata": {},
   "source": [
    "We only have Heads of House Hold in our data"
   ]
  },
  {
   "cell_type": "code",
   "execution_count": 59,
   "metadata": {},
   "outputs": [
    {
     "data": {
      "text/plain": [
       "{'Head'}"
      ]
     },
     "execution_count": 59,
     "metadata": {},
     "output_type": "execute_result"
    }
   ],
   "source": [
    "set(data.relhh.values)"
   ]
  },
  {
   "cell_type": "markdown",
   "metadata": {},
   "source": [
    "But, we have both males and females"
   ]
  },
  {
   "cell_type": "code",
   "execution_count": 60,
   "metadata": {},
   "outputs": [
    {
     "data": {
      "text/plain": [
       "{1.0, 2.0}"
      ]
     },
     "execution_count": 60,
     "metadata": {},
     "output_type": "execute_result"
    }
   ],
   "source": [
    "set(data.hsex.values)"
   ]
  },
  {
   "cell_type": "markdown",
   "metadata": {},
   "source": [
    "We have only race = 1, 2, 3, 8, nan"
   ]
  },
  {
   "cell_type": "code",
   "execution_count": 61,
   "metadata": {},
   "outputs": [
    {
     "data": {
      "text/plain": [
       "array([  1.,   2.,   3.,  nan,   8.])"
      ]
     },
     "execution_count": 61,
     "metadata": {},
     "output_type": "execute_result"
    }
   ],
   "source": [
    "data.hrace.unique() \n",
    "# note that we have no hispanics in our data, meaning a coefficient on hispanic dummy variable cannot be estimated."
   ]
  },
  {
   "cell_type": "markdown",
   "metadata": {},
   "source": [
    "We also have individuals who worked 0 hours"
   ]
  },
  {
   "cell_type": "code",
   "execution_count": 62,
   "metadata": {},
   "outputs": [
    {
     "data": {
      "text/plain": [
       "0.0"
      ]
     },
     "execution_count": 62,
     "metadata": {},
     "output_type": "execute_result"
    }
   ],
   "source": [
    "min(set(data.hannhrs.values))"
   ]
  },
  {
   "cell_type": "markdown",
   "metadata": {},
   "source": [
    "## Clean the data"
   ]
  },
  {
   "cell_type": "code",
   "execution_count": 63,
   "metadata": {
    "collapsed": true
   },
   "outputs": [],
   "source": [
    "#dropping female heads of house hold\n",
    "data = data[data.hsex == 1]\n",
    "\n",
    "#dropping individuals younger than 25, or older than 60\n",
    "data = data[data.age <= 60]\n",
    "data = data[data.age >= 25]\n",
    "\n",
    "#dropping individuals with nan hours or annual income\n",
    "data = data.dropna(how='any', subset=['hannhrs', 'hlabinc'])\n",
    "\n",
    "#dropping individuals with 0 annual hours worked (to avoid +inf hourly wage)\n",
    "data = data[data.hannhrs >0]\n",
    "\n",
    "#dropping individuals with race, educ = nan\n",
    "data = data.dropna(how='any', subset=['hrace', 'hyrsed'])\n",
    "\n"
   ]
  },
  {
   "cell_type": "code",
   "execution_count": 64,
   "metadata": {
    "collapsed": true
   },
   "outputs": [],
   "source": [
    "#create hourly wage variable = annual income/annual hours\n",
    "data['hwage'] = data.hlabinc/data.hannhrs\n",
    "\n",
    "#dropping individuals with wage <= 7 \n",
    "data = data[data.hwage > 7]\n",
    "\n",
    "#creating race dummies\n",
    "\n",
    "import numpy as np\n",
    "\n",
    "data['black'] = np.where(data['hrace']==2, 1, 0)\n",
    "\n",
    "data['hispanic'] = np.where(data['hrace']==5, 1, 0)\n",
    "\n",
    "data['other'] = np.where(((data['hrace'] !=1 ) & (data['hrace'] != 2) & (data['hrace'] !=5)), 1, 0)"
   ]
  },
  {
   "cell_type": "markdown",
   "metadata": {},
   "source": [
    "## Check the variables we just created:"
   ]
  },
  {
   "cell_type": "code",
   "execution_count": 65,
   "metadata": {},
   "outputs": [
    {
     "name": "stdout",
     "output_type": "stream",
     "text": [
      "{1.0} Should be ==1 only\n",
      "2.0 Hours should be non-zero\n",
      "7.00025 1717.33 wage should be >7 and finite\n",
      "25.0 60.0 age should be [25, 60]\n",
      "1.0 17.0 edu range\n"
     ]
    }
   ],
   "source": [
    "print(set(data.hsex.values), 'Should be ==1 only')\n",
    "print(min(set(data.hannhrs.values)), 'Hours should be non-zero')\n",
    "print(min(set(data.hwage.values)), max(set(data.hwage.values)), 'wage should be >7 and finite')\n",
    "print(min(set(data.age.values)), max(set(data.age.values)), 'age should be [25, 60]')\n",
    "print(min(set(data.hyrsed.values)), max(set(data.hyrsed.values)), 'edu range')"
   ]
  },
  {
   "cell_type": "code",
   "execution_count": 66,
   "metadata": {},
   "outputs": [
    {
     "name": "stdout",
     "output_type": "stream",
     "text": [
      "{1.0, 2.0, 3.0} only have race = 1, 2, 3\n",
      "3217 3217 These must match\n",
      "0 0 These must match\n",
      "1285 1285 These must match\n",
      "52560 52560 These must match\n",
      "57062\n"
     ]
    }
   ],
   "source": [
    "print(set(data.hrace.values), 'only have race = 1, 2, 3')\n",
    "\n",
    "print(len(data.hrace[data.hrace == 2]), sum(data.black), 'These must match')\n",
    "\n",
    "print(len(data.hrace[data.hrace == 5]), sum(data.hispanic), 'These must match')\n",
    "\n",
    "print(len(data.hrace[(data.hrace != 1) & (data.hrace !=2) & (data.hrace != 5) ]), sum(data.other), 'These must match')\n",
    "\n",
    "white = len(data) - sum(data.black) - sum(data.hispanic) - sum(data.other)\n",
    "print(len(data.hrace[data.hrace == 1]), white, 'These must match')\n",
    "\n",
    "print(len(data)) "
   ]
  },
  {
   "cell_type": "code",
   "execution_count": 67,
   "metadata": {
    "collapsed": true
   },
   "outputs": [],
   "source": [
    "#transforming wage into logs:\n",
    "\n",
    "data['loghwage'] = np.log(data.hwage)\n",
    "\n",
    "#selecting only the data we want to include in our model\n",
    "\n",
    "model_data = data.loc[0:,['id68', 'year', 'loghwage', 'hyrsed', 'age', 'black',  'hispanic', 'other']]"
   ]
  },
  {
   "cell_type": "markdown",
   "metadata": {},
   "source": [
    "## (Negative) log liklihood function"
   ]
  },
  {
   "cell_type": "code",
   "execution_count": 68,
   "metadata": {
    "collapsed": true
   },
   "outputs": [],
   "source": [
    "def norm_LL(B, sd, data, y, x, t, cons = True):\n",
    "    '''\n",
    "    This function returns the negative Log Likelihood of a linear model where observations are i.i.d. with \n",
    "    variance s^2 given parameters.\n",
    "    \n",
    "    Args:\n",
    "        B: a (kx1) array of slope coefficients of the model \n",
    "        \n",
    "        sd: the standard deviation of the error term in the model\n",
    "        \n",
    "        data: a pandas dataframe containing the model data in a panel format (individual over time)\n",
    "        \n",
    "        y: a str, which is the outcome variable of the model matching the dataframe column name\n",
    "        \n",
    "        \n",
    "        x: a list of lenght k, the elements of which are the independent variables of the model matchin the dataframe column names\n",
    "    \n",
    "        t: the time period(s) of interest. a list of length m which reflects the time of interest from the panel.\n",
    "    '''\n",
    "    \n",
    "    import numpy as np\n",
    "    \n",
    "    use_data = data[data['year'].isin(t)]\n",
    "     \n",
    "    outcome = np.matrix(use_data[list(y)])\n",
    "    \n",
    "    if cons == True:\n",
    "        ind = np.matrix(use_data[x])\n",
    "        constant = np.matrix(np.ones((len(ind), 1)))\n",
    "        ind = np.append(constant, ind, 1)\n",
    "        \n",
    "    if cons == False:\n",
    "        ind = np.matrix(use_data[x])\n",
    "        \n",
    "    n = len(use_data)\n",
    "    \n",
    "    B = np.matrix(B).T\n",
    "    \n",
    "\n",
    "\n",
    "    #negative log likilihood for use in optimization\n",
    "    LL = -1*((n*np.log(2*np.pi) - n*np.log(sd) - (1/sd))*(1/2) - np.dot((outcome - ind*B).T, (outcome - ind*B)))\n",
    "    \n",
    "    return LL\n",
    "\n"
   ]
  },
  {
   "cell_type": "markdown",
   "metadata": {},
   "source": [
    "## Test the log liklihood function with arbitrary betas"
   ]
  },
  {
   "cell_type": "code",
   "execution_count": 69,
   "metadata": {
    "collapsed": true
   },
   "outputs": [],
   "source": [
    "B = np.array((.5,.5,.5,.5,0,.5))\n",
    "\n",
    "sd = 1\n",
    "\n",
    "y = ['loghwage']\n",
    "\n",
    "x = ['hyrsed', 'age', 'black','hispanic', 'other']\n",
    "\n",
    "t = [1986]"
   ]
  },
  {
   "cell_type": "code",
   "execution_count": 70,
   "metadata": {},
   "outputs": [
    {
     "name": "stdout",
     "output_type": "stream",
     "text": [
      "[[ 1159679.43230115]]\n"
     ]
    }
   ],
   "source": [
    "params = (sd, model_data, y, x, t)\n",
    "result = norm_LL(B, sd, model_data, y, x, t)\n",
    "print(result)"
   ]
  },
  {
   "cell_type": "markdown",
   "metadata": {},
   "source": [
    "## optimization routine"
   ]
  },
  {
   "cell_type": "code",
   "execution_count": 71,
   "metadata": {},
   "outputs": [
    {
     "name": "stdout",
     "output_type": "stream",
     "text": [
      "1971  final_simplex: (array([[ 1.55096379,  0.06687878,  0.01439146, -0.16388756,  0.03068777],\n",
      "       [ 1.55096379,  0.06687878,  0.01439146, -0.16388756,  0.03068777],\n",
      "       [ 1.55096379,  0.06687878,  0.01439146, -0.16388756,  0.03068777],\n",
      "       [ 1.55096379,  0.06687878,  0.01439146, -0.16388756,  0.03068777],\n",
      "       [ 1.55096379,  0.06687878,  0.01439146, -0.16388756,  0.03068777],\n",
      "       [ 1.55096379,  0.06687878,  0.01439146, -0.16388756,  0.03068777]]), array([-1035.54516136, -1035.54516136, -1035.54516136, -1035.54516136,\n",
      "       -1035.54516136, -1035.54516136]))\n",
      "           fun: -1035.5451613582861\n",
      "       message: 'Optimization terminated successfully.'\n",
      "          nfev: 1223\n",
      "           nit: 656\n",
      "        status: 0\n",
      "       success: True\n",
      "             x: array([ 1.55096379,  0.06687878,  0.01439146, -0.16388756,  0.03068777])\n",
      "1980  final_simplex: (array([[ 1.61308836,  0.06755585,  0.01269854, -0.10273616,  0.01351125],\n",
      "       [ 1.61308836,  0.06755585,  0.01269854, -0.10273616,  0.01351125],\n",
      "       [ 1.61308836,  0.06755585,  0.01269854, -0.10273616,  0.01351125],\n",
      "       [ 1.61308836,  0.06755585,  0.01269854, -0.10273616,  0.01351125],\n",
      "       [ 1.61308836,  0.06755585,  0.01269854, -0.10273616,  0.01351125],\n",
      "       [ 1.61308836,  0.06755585,  0.01269854, -0.10273616,  0.01351125]]), array([-1330.47398554, -1330.47398554, -1330.47398554, -1330.47398554,\n",
      "       -1330.47398554, -1330.47398554]))\n",
      "           fun: -1330.4739855439698\n",
      "       message: 'Optimization terminated successfully.'\n",
      "          nfev: 1558\n",
      "           nit: 879\n",
      "        status: 0\n",
      "       success: True\n",
      "             x: array([ 1.61308836,  0.06755585,  0.01269854, -0.10273616,  0.01351125])\n",
      "1990  final_simplex: (array([[ 1.11858494,  0.09755808,  0.0134656 , -0.17202427, -0.05971247],\n",
      "       [ 1.11858494,  0.09755808,  0.0134656 , -0.17202427, -0.05971247],\n",
      "       [ 1.11858494,  0.09755808,  0.0134656 , -0.17202427, -0.05971247],\n",
      "       [ 1.11858494,  0.09755808,  0.0134656 , -0.17202427, -0.05971247],\n",
      "       [ 1.11858494,  0.09755808,  0.0134656 , -0.17202427, -0.05971247],\n",
      "       [ 1.11858494,  0.09755808,  0.0134656 , -0.17202427, -0.05971247]]), array([-1378.54614419, -1378.54614419, -1378.54614419, -1378.54614419,\n",
      "       -1378.54614419, -1378.54614419]))\n",
      "           fun: -1378.5461441922489\n",
      "       message: 'Optimization terminated successfully.'\n",
      "          nfev: 1585\n",
      "           nit: 909\n",
      "        status: 0\n",
      "       success: True\n",
      "             x: array([ 1.11858494,  0.09755808,  0.0134656 , -0.17202427, -0.05971247])\n",
      "2000  final_simplex: (array([[ 1.1616909 ,  0.10915436,  0.01099353, -0.24604481, -0.06073245],\n",
      "       [ 1.1616909 ,  0.10915436,  0.01099353, -0.24604481, -0.06073245],\n",
      "       [ 1.1616909 ,  0.10915436,  0.01099353, -0.24604481, -0.06073245],\n",
      "       [ 1.1616909 ,  0.10915436,  0.01099353, -0.24604481, -0.06073245],\n",
      "       [ 1.1616909 ,  0.10915436,  0.01099353, -0.24604481, -0.06073245],\n",
      "       [ 1.1616909 ,  0.10915436,  0.01099353, -0.24604481, -0.06073245]]), array([-1619.26647492, -1619.26647492, -1619.26647492, -1619.26647492,\n",
      "       -1619.26647492, -1619.26647492]))\n",
      "           fun: -1619.2664749203827\n",
      "       message: 'Optimization terminated successfully.'\n",
      "          nfev: 1582\n",
      "           nit: 899\n",
      "        status: 0\n",
      "       success: True\n",
      "             x: array([ 1.1616909 ,  0.10915436,  0.01099353, -0.24604481, -0.06073245])\n"
     ]
    }
   ],
   "source": [
    "import scipy.optimize as opt\n",
    "\n",
    "\n",
    "#parameters\n",
    "B = np.array((.5,.5,.5,.5,.5))\n",
    "\n",
    "sd = 1\n",
    "\n",
    "y = ['loghwage']\n",
    "\n",
    "x = ['hyrsed', 'age', 'black', 'other'] \n",
    "# there are 0 hispanic individuals in the data, therefore, this variable must be dropped.\n",
    "\n",
    "coefs = []\n",
    "for el in [1971, 1980, 1990, 2000]:\n",
    "    params = (sd, model_data, y, x, [el])\n",
    "    beta = opt.minimize(norm_LL, B, args = params, method = 'Nelder-Mead', tol = 1e-15, options={'maxiter': 5000})\n",
    "    coefs.append(beta.x)\n",
    "    print(el, beta)"
   ]
  },
  {
   "cell_type": "code",
   "execution_count": 72,
   "metadata": {},
   "outputs": [],
   "source": [
    "yrs = ['1971', '1980', '1990', '2000']\n",
    "coefs = np.around(coefs, decimals = 5)"
   ]
  },
  {
   "cell_type": "code",
   "execution_count": 73,
   "metadata": {},
   "outputs": [
    {
     "name": "stdout",
     "output_type": "stream",
     "text": [
      "\n",
      "The fitted model in 1971 is given by:\n",
      "1.55096  +  0.06688 * Educ +  0.01439 * Age +  -0.16389 * Black +  0.03069 * OtherRaces + e\n",
      "\n",
      "The fitted model in 1980 is given by:\n",
      "1.61309  +  0.06756 * Educ +  0.0127 * Age +  -0.10274 * Black +  0.01351 * OtherRaces + e\n",
      "\n",
      "The fitted model in 1990 is given by:\n",
      "1.11858  +  0.09756 * Educ +  0.01347 * Age +  -0.17202 * Black +  -0.05971 * OtherRaces + e\n",
      "\n",
      "The fitted model in 2000 is given by:\n",
      "1.16169  +  0.10915 * Educ +  0.01099 * Age +  -0.24604 * Black +  -0.06073 * OtherRaces + e\n"
     ]
    }
   ],
   "source": [
    "for i in range(len(yrs)):\n",
    "    print('')\n",
    "    print('The fitted model in', yrs[i], 'is given by:')\n",
    "    print(coefs[i][0],' + ', coefs[i][1], '* Educ + ', coefs[i][2],'* Age + ', coefs[i][3], '* Black + ', coefs[i][4], '* OtherRaces + e' )"
   ]
  },
  {
   "cell_type": "code",
   "execution_count": null,
   "metadata": {
    "collapsed": true
   },
   "outputs": [],
   "source": []
  },
  {
   "cell_type": "markdown",
   "metadata": {
    "collapsed": true
   },
   "source": [
    "## Testing against the OLS estimator: $(X^\\prime X)^{-1}X^\\prime  y$"
   ]
  },
  {
   "cell_type": "code",
   "execution_count": 74,
   "metadata": {},
   "outputs": [
    {
     "name": "stdout",
     "output_type": "stream",
     "text": [
      "1971 [[ 1.55096381]\n",
      " [ 0.06687878]\n",
      " [ 0.01439146]\n",
      " [-0.16388756]\n",
      " [ 0.03068777]]\n",
      "1980 [[ 1.61308834]\n",
      " [ 0.06755585]\n",
      " [ 0.01269854]\n",
      " [-0.10273616]\n",
      " [ 0.01351126]]\n",
      "1990 [[ 1.11858494]\n",
      " [ 0.09755808]\n",
      " [ 0.0134656 ]\n",
      " [-0.17202429]\n",
      " [-0.05971249]]\n",
      "2000 [[ 1.16169085]\n",
      " [ 0.10915436]\n",
      " [ 0.01099353]\n",
      " [-0.24604481]\n",
      " [-0.06073245]]\n"
     ]
    }
   ],
   "source": [
    "for el in [1971, 1980, 1990, 2000]:\n",
    "\n",
    "    use_data = model_data[model_data['year'] == el]\n",
    "    ind = np.matrix(use_data[['hyrsed', 'age', 'black', 'other']])\n",
    "    constant = np.matrix(np.ones((len(ind), 1)))\n",
    "    ind = np.append(constant, ind, 1)\n",
    "    outcome = np.matrix(use_data[y])\n",
    "    print(el, np.linalg.inv((ind.T*ind))*ind.T*outcome) #(X'X)^-1*X'Y"
   ]
  },
  {
   "cell_type": "markdown",
   "metadata": {},
   "source": [
    "## Checking against output from Stata reg command"
   ]
  },
  {
   "cell_type": "code",
   "execution_count": 75,
   "metadata": {},
   "outputs": [
    {
     "data": {
      "image/png": "[encoded data removed]",
      "text/plain": [
       "<IPython.core.display.Image object>"
      ]
     },
     "execution_count": 75,
     "metadata": {},
     "output_type": "execute_result"
    }
   ],
   "source": [
    "from IPython.display import Image\n",
    "Image(\"stata_output.png\")"
   ]
  },
  {
   "cell_type": "markdown",
   "metadata": {},
   "source": []
  },
  {
   "cell_type": "markdown",
   "metadata": {},
   "source": [
    "\n",
    "            \n",
    "            "
   ]
  },
  {
   "cell_type": "code",
   "execution_count": null,
   "metadata": {
    "collapsed": true
   },
   "outputs": [],
   "source": []
  },
  {
   "cell_type": "code",
   "execution_count": null,
   "metadata": {
    "collapsed": true
   },
   "outputs": [],
   "source": []
  },
  {
   "cell_type": "code",
   "execution_count": null,
   "metadata": {
    "collapsed": true
   },
   "outputs": [],
   "source": []
  },
  {
   "cell_type": "code",
   "execution_count": null,
   "metadata": {
    "collapsed": true
   },
   "outputs": [],
   "source": []
  },
  {
   "cell_type": "code",
   "execution_count": null,
   "metadata": {},
   "outputs": [],
   "source": [
    "\n"
   ]
  },
  {
   "cell_type": "code",
   "execution_count": null,
   "metadata": {
    "collapsed": true
   },
   "outputs": [],
   "source": []
  },
  {
   "cell_type": "code",
   "execution_count": null,
   "metadata": {},
   "outputs": [],
   "source": []
  },
  {
   "cell_type": "code",
   "execution_count": null,
   "metadata": {
    "collapsed": true
   },
   "outputs": [],
   "source": []
  },
  {
   "cell_type": "code",
   "execution_count": null,
   "metadata": {
    "collapsed": true
   },
   "outputs": [],
   "source": []
  },
  {
   "cell_type": "code",
   "execution_count": null,
   "metadata": {
    "collapsed": true
   },
   "outputs": [],
   "source": []
  },
  {
   "cell_type": "code",
   "execution_count": null,
   "metadata": {
    "collapsed": true
   },
   "outputs": [],
   "source": []
  }
 ],
 "metadata": {
  "kernelspec": {
   "display_name": "Python 3",
   "language": "python",
   "name": "python3"
  },
  "language_info": {
   "codemirror_mode": {
    "name": "ipython",
    "version": 3
   },
   "file_extension": ".py",
   "mimetype": "text/x-python",
   "name": "python",
   "nbconvert_exporter": "python",
   "pygments_lexer": "ipython3",
   "version": "3.6.1"
  }
 },
 "nbformat": 4,
 "nbformat_minor": 2
}
