{
 "cells": [
  {
   "cell_type": "code",
   "execution_count": 225,
   "metadata": {
    "collapsed": true
   },
   "outputs": [],
   "source": [
    "import pandas as pd\n",
    "\n",
    "data = pd.read_stata('PS3_data.dta')"
   ]
  },
  {
   "cell_type": "markdown",
   "metadata": {},
   "source": [
    "## Explore Data"
   ]
  },
  {
   "cell_type": "markdown",
   "metadata": {},
   "source": [
    "We only have Heads of House Hold in our data"
   ]
  },
  {
   "cell_type": "code",
   "execution_count": 226,
   "metadata": {},
   "outputs": [
    {
     "data": {
      "text/plain": [
       "{'Head'}"
      ]
     },
     "execution_count": 226,
     "metadata": {},
     "output_type": "execute_result"
    }
   ],
   "source": [
    "set(data.relhh.values)"
   ]
  },
  {
   "cell_type": "markdown",
   "metadata": {},
   "source": [
    "But, we have both males and females"
   ]
  },
  {
   "cell_type": "code",
   "execution_count": 227,
   "metadata": {},
   "outputs": [
    {
     "data": {
      "text/plain": [
       "{1.0, 2.0}"
      ]
     },
     "execution_count": 227,
     "metadata": {},
     "output_type": "execute_result"
    }
   ],
   "source": [
    "set(data.hsex.values)"
   ]
  },
  {
   "cell_type": "markdown",
   "metadata": {},
   "source": [
    "We have only race = 1, 2, 3, 8, nan"
   ]
  },
  {
   "cell_type": "code",
   "execution_count": 228,
   "metadata": {},
   "outputs": [
    {
     "data": {
      "text/plain": [
       "array([  1.,   2.,   3.,  nan,   8.])"
      ]
     },
     "execution_count": 228,
     "metadata": {},
     "output_type": "execute_result"
    }
   ],
   "source": [
    "data.hrace.unique() \n",
    "# note that we have no hispanics in our data, meaning a coefficient on hispanic dummy variable cannot be estimated."
   ]
  },
  {
   "cell_type": "markdown",
   "metadata": {},
   "source": [
    "We also have individuals who worked 0 hours"
   ]
  },
  {
   "cell_type": "code",
   "execution_count": 229,
   "metadata": {},
   "outputs": [
    {
     "data": {
      "text/plain": [
       "0.0"
      ]
     },
     "execution_count": 229,
     "metadata": {},
     "output_type": "execute_result"
    }
   ],
   "source": [
    "min(set(data.hannhrs.values))"
   ]
  },
  {
   "cell_type": "markdown",
   "metadata": {},
   "source": [
    "## Clean the data"
   ]
  },
  {
   "cell_type": "code",
   "execution_count": 230,
   "metadata": {
    "collapsed": true
   },
   "outputs": [],
   "source": [
    "#dropping female heads of house hold\n",
    "data = data[data.hsex == 1]\n",
    "\n",
    "#dropping individuals younger than 25, or older than 60\n",
    "data = data[data.age <= 60]\n",
    "data = data[data.age >= 25]\n",
    "\n",
    "#dropping individuals with nan hours or annual income\n",
    "data = data.dropna(how='any', subset=['hannhrs', 'hlabinc'])\n",
    "\n",
    "#dropping individuals with 0 annual hours worked (to avoid +inf hourly wage)\n",
    "data = data[data.hannhrs >0]\n",
    "\n",
    "#dropping individuals with race, educ = nan\n",
    "data = data.dropna(how='any', subset=['hrace', 'hyrsed'])\n",
    "\n"
   ]
  },
  {
   "cell_type": "code",
   "execution_count": 231,
   "metadata": {
    "collapsed": true
   },
   "outputs": [],
   "source": [
    "#create hourly wage variable = annual income/annual hours\n",
    "data['hwage'] = data.hlabinc/data.hannhrs\n",
    "\n",
    "#dropping individuals with wage <= 7 \n",
    "data = data[data.hwage > 7]\n",
    "\n",
    "#creating race dummies\n",
    "\n",
    "import numpy as np\n",
    "\n",
    "data['black'] = np.where(data['hrace']==2, 1, 0)\n",
    "\n",
    "data['hispanic'] = np.where(data['hrace']==5, 1, 0)\n",
    "\n",
    "data['other'] = np.where(((data['hrace'] !=1 ) & (data['hrace'] != 2) & (data['hrace'] !=5)), 1, 0)"
   ]
  },
  {
   "cell_type": "markdown",
   "metadata": {},
   "source": [
    "## Check the variables we just created:"
   ]
  },
  {
   "cell_type": "code",
   "execution_count": 232,
   "metadata": {},
   "outputs": [
    {
     "name": "stdout",
     "output_type": "stream",
     "text": [
      "{1.0} Should be ==1 only\n",
      "2.0 Hours should be non-zero\n",
      "7.00025 1717.33 wage should be >7 and finite\n",
      "25.0 60.0 age should be [25, 60]\n",
      "1.0 17.0 edu range\n"
     ]
    }
   ],
   "source": [
    "print(set(data.hsex.values), 'Should be ==1 only')\n",
    "print(min(set(data.hannhrs.values)), 'Hours should be non-zero')\n",
    "print(min(set(data.hwage.values)), max(set(data.hwage.values)), 'wage should be >7 and finite')\n",
    "print(min(set(data.age.values)), max(set(data.age.values)), 'age should be [25, 60]')\n",
    "print(min(set(data.hyrsed.values)), max(set(data.hyrsed.values)), 'edu range')"
   ]
  },
  {
   "cell_type": "code",
   "execution_count": 233,
   "metadata": {},
   "outputs": [
    {
     "name": "stdout",
     "output_type": "stream",
     "text": [
      "{1.0, 2.0, 3.0} only have race = 1, 2, 3\n",
      "3217 3217 These must match\n",
      "0 0 These must match\n",
      "1285 1285 These must match\n",
      "52560 52560 These must match\n",
      "57062\n"
     ]
    }
   ],
   "source": [
    "print(set(data.hrace.values), 'only have race = 1, 2, 3')\n",
    "\n",
    "print(len(data.hrace[data.hrace == 2]), sum(data.black), 'These must match')\n",
    "\n",
    "print(len(data.hrace[data.hrace == 5]), sum(data.hispanic), 'These must match')\n",
    "\n",
    "print(len(data.hrace[(data.hrace != 1) & (data.hrace !=2) & (data.hrace != 5) ]), sum(data.other), 'These must match')\n",
    "\n",
    "white = len(data) - sum(data.black) - sum(data.hispanic) - sum(data.other)\n",
    "print(len(data.hrace[data.hrace == 1]), white, 'These must match')\n",
    "\n",
    "print(len(data)) "
   ]
  },
  {
   "cell_type": "code",
   "execution_count": 234,
   "metadata": {
    "collapsed": true
   },
   "outputs": [],
   "source": [
    "#transforming wage into logs:\n",
    "\n",
    "data['loghwage'] = np.log(data.hwage)"
   ]
  },
  {
   "cell_type": "markdown",
   "metadata": {},
   "source": [
    "## Removing unecessary data"
   ]
  },
  {
   "cell_type": "code",
   "execution_count": 235,
   "metadata": {
    "collapsed": true
   },
   "outputs": [],
   "source": [
    "model_data = data.loc[0:,['id68', 'year', 'loghwage', 'hyrsed', 'age', 'black',  'hispanic', 'other']]"
   ]
  },
  {
   "cell_type": "markdown",
   "metadata": {},
   "source": [
    "## negative log liklihood function"
   ]
  },
  {
   "cell_type": "code",
   "execution_count": 236,
   "metadata": {
    "collapsed": true
   },
   "outputs": [],
   "source": [
    "def norm_LL(B, sd, data, y, x, t):\n",
    "    '''\n",
    "    This function returns the negative Log Likelihood of a linear model where observations are i.i.d. with \n",
    "    variance s^2 given parameters.\n",
    "    \n",
    "    Args:\n",
    "        B: a (kx1) array of slope coefficients of the model \n",
    "        \n",
    "        sd: the standard deviation of the error term in the model\n",
    "        \n",
    "        data: a pandas dataframe containing the model data in a panel format (individual over time)\n",
    "        \n",
    "        y: a str, which is the outcome variable of the model matching the dataframe column name\n",
    "        \n",
    "        \n",
    "        x: a list of lenght k, the elements of which are the independent variables of the model matchin the dataframe column names\n",
    "    \n",
    "        t: the time period(s) of interest. a list of length m which reflects the time of interest from the panel.\n",
    "    '''\n",
    "    \n",
    "    import numpy as np\n",
    "    \n",
    "    use_data = data[data['year'].isin(t)]\n",
    "     \n",
    "    outcome = np.matrix(use_data[list(y)])\n",
    "    \n",
    "    ind = np.matrix(use_data[xn])\n",
    "    \n",
    "    n = len(use_data)\n",
    "    \n",
    "    B = np.matrix(B).T\n",
    "    \n",
    "    #negative log likilihood for use in optimization\n",
    "    LL = -1*((n*np.log(2*np.pi) - n*np.log(sd) - (1/sd))*(1/2) - np.dot((outcome - ind*B).T, (outcome - ind*B)))\n",
    "    \n",
    "    return LL\n",
    "\n",
    "def drop_x(x, B, data):\n",
    "\n",
    "    i =[]\n",
    "    for el in x:\n",
    "        if set(data[el]) == {0}:\n",
    "            i.append(x.index(el))\n",
    "            x.remove(el)\n",
    "    for el in i:\n",
    "          B = np.delete(B, el)\n",
    "    return x, B"
   ]
  },
  {
   "cell_type": "markdown",
   "metadata": {},
   "source": [
    "## Test the log liklihood function with arbitrary betas"
   ]
  },
  {
   "cell_type": "code",
   "execution_count": null,
   "metadata": {
    "collapsed": true
   },
   "outputs": [],
   "source": [
    "\n"
   ]
  },
  {
   "cell_type": "code",
   "execution_count": 237,
   "metadata": {
    "collapsed": true
   },
   "outputs": [],
   "source": [
    "B = np.array((.5,.5,.5,0,.5))\n",
    "\n",
    "sd = 1\n",
    "\n",
    "y = ['loghwage']\n",
    "\n",
    "x = ['hyrsed', 'age', 'black','hispanic', 'other']\n",
    "\n",
    "t = [1986]"
   ]
  },
  {
   "cell_type": "code",
   "execution_count": 238,
   "metadata": {},
   "outputs": [
    {
     "name": "stdout",
     "output_type": "stream",
     "text": [
      "[[ 1112974.97819982]]\n"
     ]
    }
   ],
   "source": [
    "x, B = drop_x(x, B, model_data[model_data['year'].isin(t)])\n",
    "params = (sd, model_data, y, x, t)\n",
    "result = norm_LL(B, sd, model_data, y, x, t)\n",
    "print(result)"
   ]
  },
  {
   "cell_type": "markdown",
   "metadata": {},
   "source": [
    "## optimization routine"
   ]
  },
  {
   "cell_type": "code",
   "execution_count": 239,
   "metadata": {},
   "outputs": [
    {
     "name": "stdout",
     "output_type": "stream",
     "text": [
      "1971  final_simplex: (array([[ 0.12965442,  0.03264421, -0.00848237,  0.14378952],\n",
      "       [ 0.12965442,  0.03264421, -0.00848237,  0.14378952],\n",
      "       [ 0.12965442,  0.03264421, -0.00848237,  0.14378952],\n",
      "       [ 0.12965442,  0.03264421, -0.00848237,  0.14378952],\n",
      "       [ 0.12965442,  0.03264421, -0.00848237,  0.14378952]]), array([-958.37726158, -958.37726158, -958.37726158, -958.37726158,\n",
      "       -958.37726158]))\n",
      "           fun: -958.37726157599263\n",
      "       message: 'Optimization terminated successfully.'\n",
      "          nfev: 802\n",
      "           nit: 406\n",
      "        status: 0\n",
      "       success: True\n",
      "             x: array([ 0.12965442,  0.03264421, -0.00848237,  0.14378952])\n",
      "1980  final_simplex: (array([[ 0.14465969,  0.02708198,  0.05667932,  0.06067296],\n",
      "       [ 0.14465969,  0.02708198,  0.05667932,  0.06067296],\n",
      "       [ 0.14465969,  0.02708198,  0.05667932,  0.06067296],\n",
      "       [ 0.14465969,  0.02708198,  0.05667932,  0.06067296],\n",
      "       [ 0.14465969,  0.02708198,  0.05667932,  0.06067296]]), array([-1236.1444012, -1236.1444012, -1236.1444012, -1236.1444012,\n",
      "       -1236.1444012]))\n",
      "           fun: -1236.1444012005807\n",
      "       message: 'Optimization terminated successfully.'\n",
      "          nfev: 763\n",
      "           nit: 393\n",
      "        status: 0\n",
      "       success: True\n",
      "             x: array([ 0.14465969,  0.02708198,  0.05667932,  0.06067296])\n",
      "1990  final_simplex: (array([[ 0.1497342 ,  0.02297402, -0.08756549, -0.05335247],\n",
      "       [ 0.1497342 ,  0.02297402, -0.08756549, -0.05335247],\n",
      "       [ 0.1497342 ,  0.02297402, -0.08756549, -0.05335247],\n",
      "       [ 0.1497342 ,  0.02297402, -0.08756549, -0.05335247],\n",
      "       [ 0.1497342 ,  0.02297402, -0.08756549, -0.05335247]]), array([-1336.99698454, -1336.99698454, -1336.99698454, -1336.99698454,\n",
      "       -1336.99698454]))\n",
      "           fun: -1336.996984536911\n",
      "       message: 'Optimization terminated successfully.'\n",
      "          nfev: 828\n",
      "           nit: 426\n",
      "        status: 0\n",
      "       success: True\n",
      "             x: array([ 0.1497342 ,  0.02297402, -0.08756549, -0.05335247])\n",
      "2000  final_simplex: (array([[ 0.16874633,  0.01844635, -0.16548845, -0.0200481 ],\n",
      "       [ 0.16874633,  0.01844635, -0.16548845, -0.0200481 ],\n",
      "       [ 0.16874633,  0.01844635, -0.16548845, -0.0200481 ],\n",
      "       [ 0.16874633,  0.01844635, -0.16548845, -0.0200481 ],\n",
      "       [ 0.16874633,  0.01844635, -0.16548845, -0.0200481 ]]), array([-1558.62176593, -1558.62176593, -1558.62176593, -1558.62176593,\n",
      "       -1558.62176593]))\n",
      "           fun: -1558.6217659285535\n",
      "       message: 'Optimization terminated successfully.'\n",
      "          nfev: 961\n",
      "           nit: 510\n",
      "        status: 0\n",
      "       success: True\n",
      "             x: array([ 0.16874633,  0.01844635, -0.16548845, -0.0200481 ])\n"
     ]
    }
   ],
   "source": [
    "import scipy.optimize as opt\n",
    "\n",
    "for el in [1971, 1980, 1990, 2000]:\n",
    "    x, B = drop_x(x, B, model_data[model_data['year'].isin([el])])\n",
    "    params = (sd, model_data, y, x, [el])\n",
    "    beta = opt.minimize(norm_LL, B, args = params, method = 'Nelder-Mead', tol = 1e-15, options={'maxiter': 5000})\n",
    "    print(el, beta)"
   ]
  },
  {
   "cell_type": "code",
   "execution_count": null,
   "metadata": {},
   "outputs": [],
   "source": []
  },
  {
   "cell_type": "code",
   "execution_count": null,
   "metadata": {
    "collapsed": true
   },
   "outputs": [],
   "source": []
  },
  {
   "cell_type": "code",
   "execution_count": null,
   "metadata": {
    "collapsed": true
   },
   "outputs": [],
   "source": []
  },
  {
   "cell_type": "code",
   "execution_count": null,
   "metadata": {
    "collapsed": true
   },
   "outputs": [],
   "source": []
  },
  {
   "cell_type": "code",
   "execution_count": 240,
   "metadata": {},
   "outputs": [
    {
     "name": "stdout",
     "output_type": "stream",
     "text": [
      "1971 [[ 0.12965442]\n",
      " [ 0.03264421]\n",
      " [-0.00848238]\n",
      " [ 0.14378953]]\n",
      "1980 [[ 0.14465969]\n",
      " [ 0.02708198]\n",
      " [ 0.05667933]\n",
      " [ 0.06067297]]\n",
      "1990 [[ 0.14973421]\n",
      " [ 0.02297402]\n",
      " [-0.08756549]\n",
      " [-0.05335241]]\n",
      "2000 [[ 0.16874633]\n",
      " [ 0.01844635]\n",
      " [-0.16548842]\n",
      " [-0.02004811]]\n"
     ]
    }
   ],
   "source": [
    "for el in [1971, 1980, 1990, 2000]:\n",
    "\n",
    "    use_data = model_data[model_data['year'] == el]\n",
    "    ind = np.matrix(use_data[['hyrsed', 'age', 'black', 'other']])\n",
    "    outcome = np.matrix(use_data[y])\n",
    "    print(el, np.linalg.inv((ind.T*ind))*ind.T*outcome)"
   ]
  },
  {
   "cell_type": "code",
   "execution_count": null,
   "metadata": {},
   "outputs": [],
   "source": []
  },
  {
   "cell_type": "code",
   "execution_count": null,
   "metadata": {},
   "outputs": [],
   "source": []
  },
  {
   "cell_type": "code",
   "execution_count": null,
   "metadata": {},
   "outputs": [],
   "source": []
  },
  {
   "cell_type": "code",
   "execution_count": null,
   "metadata": {},
   "outputs": [],
   "source": []
  },
  {
   "cell_type": "code",
   "execution_count": null,
   "metadata": {},
   "outputs": [],
   "source": []
  },
  {
   "cell_type": "code",
   "execution_count": null,
   "metadata": {},
   "outputs": [],
   "source": []
  },
  {
   "cell_type": "code",
   "execution_count": null,
   "metadata": {},
   "outputs": [],
   "source": []
  },
  {
   "cell_type": "code",
   "execution_count": null,
   "metadata": {},
   "outputs": [],
   "source": []
  },
  {
   "cell_type": "code",
   "execution_count": null,
   "metadata": {},
   "outputs": [],
   "source": []
  },
  {
   "cell_type": "code",
   "execution_count": null,
   "metadata": {},
   "outputs": [],
   "source": []
  },
  {
   "cell_type": "code",
   "execution_count": null,
   "metadata": {},
   "outputs": [],
   "source": []
  },
  {
   "cell_type": "code",
   "execution_count": null,
   "metadata": {},
   "outputs": [],
   "source": []
  },
  {
   "cell_type": "code",
   "execution_count": null,
   "metadata": {
    "collapsed": true
   },
   "outputs": [],
   "source": []
  }
 ],
 "metadata": {
  "kernelspec": {
   "display_name": "Python 3",
   "language": "python",
   "name": "python3"
  },
  "language_info": {
   "codemirror_mode": {
    "name": "ipython",
    "version": 3
   },
   "file_extension": ".py",
   "mimetype": "text/x-python",
   "name": "python",
   "nbconvert_exporter": "python",
   "pygments_lexer": "ipython3",
   "version": "3.6.1"
  }
 },
 "nbformat": 4,
 "nbformat_minor": 2
}
