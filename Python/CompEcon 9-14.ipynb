{
 "cells": [
  {
   "cell_type": "markdown",
   "metadata": {},
   "source": [
    "c(x) = a + bx + cx^2\n",
    "AC(x) = a/x + b +cx\n",
    "\n",
    "min_x AC(x) s.t. x >= 0"
   ]
  },
  {
   "cell_type": "code",
   "execution_count": 31,
   "metadata": {
    "collapsed": true
   },
   "outputs": [],
   "source": [
    "def avg_cost(x, *params):\n",
    "    '''\n",
    "    This function returns average cost of x given the parameters of the Ac function\n",
    "    \n",
    "    Args:\n",
    "        x: scalar, the amount of output\n",
    "        \n",
    "    Returns:\n",
    "        ac: scalar, the average cost of producing x units\n",
    "    '''\n",
    "    \n",
    "    a, b, c = params\n",
    "    ac = a * (x ** -1) + b + c * x\n",
    "    \n",
    "    return ac"
   ]
  },
  {
   "cell_type": "code",
   "execution_count": 32,
   "metadata": {},
   "outputs": [
    {
     "ename": "ValueError",
     "evalue": "not enough values to unpack (expected 3, got 1)",
     "output_type": "error",
     "traceback": [
      "\u001b[0;31m---------------------------------------------------------------------------\u001b[0m",
      "\u001b[0;31mValueError\u001b[0m                                Traceback (most recent call last)",
      "\u001b[0;32m<ipython-input-32-0ca00893fe63>\u001b[0m in \u001b[0;36m<module>\u001b[0;34m()\u001b[0m\n\u001b[1;32m      8\u001b[0m \u001b[0mx\u001b[0m \u001b[0;34m=\u001b[0m \u001b[0mnp\u001b[0m\u001b[0;34m.\u001b[0m\u001b[0mlinspace\u001b[0m\u001b[0;34m(\u001b[0m\u001b[0;36m0.01\u001b[0m\u001b[0;34m,\u001b[0m \u001b[0;36m5.01\u001b[0m\u001b[0;34m,\u001b[0m \u001b[0mnum\u001b[0m\u001b[0;34m=\u001b[0m\u001b[0;36m500\u001b[0m\u001b[0;34m)\u001b[0m \u001b[0;31m#linear grid space starting at .01 going to 5.01 with 500 points inbetween\u001b[0m\u001b[0;34m\u001b[0m\u001b[0m\n\u001b[1;32m      9\u001b[0m \u001b[0;34m\u001b[0m\u001b[0m\n\u001b[0;32m---> 10\u001b[0;31m \u001b[0mac\u001b[0m \u001b[0;34m=\u001b[0m \u001b[0mavg_cost\u001b[0m\u001b[0;34m(\u001b[0m\u001b[0mx\u001b[0m\u001b[0;34m,\u001b[0m \u001b[0;34m(\u001b[0m\u001b[0ma\u001b[0m\u001b[0;34m,\u001b[0m \u001b[0mb\u001b[0m\u001b[0;34m,\u001b[0m \u001b[0mc\u001b[0m\u001b[0;34m)\u001b[0m\u001b[0;34m)\u001b[0m\u001b[0;34m\u001b[0m\u001b[0m\n\u001b[0m\u001b[1;32m     11\u001b[0m \u001b[0;34m\u001b[0m\u001b[0m\n\u001b[1;32m     12\u001b[0m \u001b[0mplt\u001b[0m\u001b[0;34m.\u001b[0m\u001b[0mplot\u001b[0m\u001b[0;34m(\u001b[0m\u001b[0mx\u001b[0m\u001b[0;34m,\u001b[0m \u001b[0mac\u001b[0m\u001b[0;34m)\u001b[0m\u001b[0;34m\u001b[0m\u001b[0m\n",
      "\u001b[0;32m<ipython-input-31-8bcf245d5d03>\u001b[0m in \u001b[0;36mavg_cost\u001b[0;34m(x, *params)\u001b[0m\n\u001b[1;32m     10\u001b[0m     '''\n\u001b[1;32m     11\u001b[0m \u001b[0;34m\u001b[0m\u001b[0m\n\u001b[0;32m---> 12\u001b[0;31m     \u001b[0ma\u001b[0m\u001b[0;34m,\u001b[0m \u001b[0mb\u001b[0m\u001b[0;34m,\u001b[0m \u001b[0mc\u001b[0m \u001b[0;34m=\u001b[0m \u001b[0mparams\u001b[0m\u001b[0;34m\u001b[0m\u001b[0m\n\u001b[0m\u001b[1;32m     13\u001b[0m     \u001b[0mac\u001b[0m \u001b[0;34m=\u001b[0m \u001b[0ma\u001b[0m \u001b[0;34m*\u001b[0m \u001b[0;34m(\u001b[0m\u001b[0mx\u001b[0m \u001b[0;34m**\u001b[0m \u001b[0;34m-\u001b[0m\u001b[0;36m1\u001b[0m\u001b[0;34m)\u001b[0m \u001b[0;34m+\u001b[0m \u001b[0mb\u001b[0m \u001b[0;34m+\u001b[0m \u001b[0mc\u001b[0m \u001b[0;34m*\u001b[0m \u001b[0mx\u001b[0m\u001b[0;34m\u001b[0m\u001b[0m\n\u001b[1;32m     14\u001b[0m \u001b[0;34m\u001b[0m\u001b[0m\n",
      "\u001b[0;31mValueError\u001b[0m: not enough values to unpack (expected 3, got 1)"
     ]
    }
   ],
   "source": [
    "import matplotlib.pyplot as plt\n",
    "\n",
    "\n",
    "a, b, c = 1, 2, 3\n",
    "params = (a, b, c)\n",
    "# define x grid\n",
    "import numpy as np\n",
    "x = np.linspace(0.01, 5.01, num=500) #linear grid space starting at .01 going to 5.01 with 500 points inbetween\n",
    "\n",
    "ac = avg_cost(x, (a, b, c))\n",
    "\n",
    "plt.plot(x, ac)\n",
    "plt.show()"
   ]
  },
  {
   "cell_type": "code",
   "execution_count": 33,
   "metadata": {},
   "outputs": [],
   "source": [
    "import scipy.optimize as opt"
   ]
  },
  {
   "cell_type": "code",
   "execution_count": 35,
   "metadata": {},
   "outputs": [
    {
     "data": {
      "text/plain": [
       "     fun: 5.464101615137754\n",
       "    nfev: 80\n",
       "     nit: 75\n",
       " success: True\n",
       "       x: 0.5773502648532614"
      ]
     },
     "execution_count": 35,
     "metadata": {},
     "output_type": "execute_result"
    }
   ],
   "source": [
    "results = opt.minimize_scalar(avg_cost, bracket = [0.1, 2], args=(a,b,c), method = 'Golden', tol=1e-15)\n",
    "results"
   ]
  },
  {
   "cell_type": "code",
   "execution_count": 39,
   "metadata": {},
   "outputs": [
    {
     "data": {
      "text/plain": [
       "     fun: 5.4641016151377544\n",
       "    nfev: 14\n",
       "     nit: 13\n",
       " success: True\n",
       "       x: 0.57735026898703412"
      ]
     },
     "execution_count": 39,
     "metadata": {},
     "output_type": "execute_result"
    }
   ],
   "source": [
    "results = opt.minimize_scalar(avg_cost, bracket=[0.1,2],args = (a,b,c), method = 'Brent')\n",
    "results"
   ]
  },
  {
   "cell_type": "code",
   "execution_count": 41,
   "metadata": {},
   "outputs": [
    {
     "data": {
      "text/plain": [
       " final_simplex: (array([[ 0.57732422],\n",
       "       [ 0.57738281]]), array([ 5.46410162,  5.46410162]))\n",
       "           fun: 5.4641016186641549\n",
       "       message: 'Optimization terminated successfully.'\n",
       "          nfev: 32\n",
       "           nit: 16\n",
       "        status: 0\n",
       "       success: True\n",
       "             x: array([ 0.57732422])"
      ]
     },
     "execution_count": 41,
     "metadata": {},
     "output_type": "execute_result"
    }
   ],
   "source": [
    "x_min = opt.minimize(avg_cost, 1.2, args=(a,b,c), method = 'Nelder-Mead')\n",
    "x_min"
   ]
  },
  {
   "cell_type": "code",
   "execution_count": 42,
   "metadata": {},
   "outputs": [
    {
     "data": {
      "text/plain": [
       "      fun: 5.464101615137754\n",
       " hess_inv: array([[ 0.09627978]])\n",
       "      jac: array([  5.96046448e-08])\n",
       "  message: 'Optimization terminated successfully.'\n",
       "     nfev: 27\n",
       "      nit: 6\n",
       "     njev: 9\n",
       "   status: 0\n",
       "  success: True\n",
       "        x: array([ 0.57735026])"
      ]
     },
     "execution_count": 42,
     "metadata": {},
     "output_type": "execute_result"
    }
   ],
   "source": [
    "x_min = opt.minimize(avg_cost, 1.2, args=(a,b,c), method = 'BFGS')\n",
    "x_min"
   ]
  },
  {
   "cell_type": "code",
   "execution_count": 43,
   "metadata": {
    "collapsed": true
   },
   "outputs": [],
   "source": [
    "def jac_ac(x, *params):\n",
    "    '''\n",
    "    This computes the jacobian of the avg cost function\n",
    "    '''\n",
    "    \n",
    "    a, b, c = params\n",
    "    \n",
    "    jac = -1 * a * x ** -2 +c\n",
    "    \n",
    "    return jac\n"
   ]
  },
  {
   "cell_type": "code",
   "execution_count": 44,
   "metadata": {
    "collapsed": true
   },
   "outputs": [],
   "source": [
    "def hess_ac(x, *params):\n",
    "    \n",
    "    a, b, c = params\n",
    "    \n",
    "    hess = 2 * a * x ** -3\n",
    "    \n",
    "    return hess"
   ]
  },
  {
   "cell_type": "code",
   "execution_count": 64,
   "metadata": {},
   "outputs": [
    {
     "name": "stderr",
     "output_type": "stream",
     "text": [
      "/home/j/anaconda3/lib/python3.6/site-packages/ipykernel_launcher.py:13: RuntimeWarning: divide by zero encountered in reciprocal\n",
      "  del sys.path[0]\n",
      "/home/j/anaconda3/lib/python3.6/site-packages/ipykernel_launcher.py:8: RuntimeWarning: divide by zero encountered in power\n",
      "  \n"
     ]
    },
    {
     "data": {
      "text/plain": [
       "     fun: 5.464101615137754\n",
       "     jac: array([-0.00010008])\n",
       " message: 'Optimization terminated successfully.'\n",
       "    nfev: 11\n",
       "    nhev: 6\n",
       "     nit: 6\n",
       "    njev: 16\n",
       "  status: 0\n",
       " success: True\n",
       "       x: array([ 0.57735027])"
      ]
     },
     "execution_count": 64,
     "metadata": {},
     "output_type": "execute_result"
    }
   ],
   "source": [
    "x_min = opt.minimize(avg_cost, 1, args=(a,b,c), method = 'Newton-CG', jac = jac_ac, hess = hess_ac)\n",
    "x_min"
   ]
  },
  {
   "cell_type": "code",
   "execution_count": 74,
   "metadata": {},
   "outputs": [
    {
     "name": "stdout",
     "output_type": "stream",
     "text": [
      "2.4507014751434326\n"
     ]
    }
   ],
   "source": [
    "import time\n",
    "\n",
    "# set number of iterations\n",
    "N = 5000\n",
    "\n",
    "start = time.time()\n",
    "for i in range(N):\n",
    "    x_min = opt.minimize(avg_cost, 0.7, args=(a,b,c), method = 'Nelder-Mead')\n",
    "\n",
    "    \n",
    "end = time.time()\n",
    "\n",
    "print(end - start)"
   ]
  },
  {
   "cell_type": "code",
   "execution_count": 75,
   "metadata": {},
   "outputs": [
    {
     "name": "stdout",
     "output_type": "stream",
     "text": [
      "2.1756200790405273\n"
     ]
    }
   ],
   "source": [
    "\n",
    "N = 5000\n",
    "\n",
    "start = time.time()\n",
    "for i in range(N):\n",
    "    x_min = opt.minimize(avg_cost, 0.7, args=(a,b,c), method = 'Newton-CG', jac = jac_ac, hess = hess_ac)\n",
    "    \n",
    "end = time.time()\n",
    "\n",
    "print(end - start)\n"
   ]
  },
  {
   "cell_type": "code",
   "execution_count": null,
   "metadata": {
    "collapsed": true
   },
   "outputs": [],
   "source": []
  }
 ],
 "metadata": {
  "kernelspec": {
   "display_name": "Python 3",
   "language": "python",
   "name": "python3"
  },
  "language_info": {
   "codemirror_mode": {
    "name": "ipython",
    "version": 3
   },
   "file_extension": ".py",
   "mimetype": "text/x-python",
   "name": "python",
   "nbconvert_exporter": "python",
   "pygments_lexer": "ipython3",
   "version": "3.6.1"
  }
 },
 "nbformat": 4,
 "nbformat_minor": 2
}
